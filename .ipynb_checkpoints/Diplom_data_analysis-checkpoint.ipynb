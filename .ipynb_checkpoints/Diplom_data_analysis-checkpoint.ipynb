{
 "cells": [
  {
   "cell_type": "markdown",
   "id": "2983d663-11c0-43b6-afca-e359688b6dc3",
   "metadata": {},
   "source": [
    "### импортируем библиотеки"
   ]
  },
  {
   "cell_type": "code",
   "execution_count": 1,
   "id": "ff58abe9-7c14-487a-8fe3-c26f357d6867",
   "metadata": {},
   "outputs": [],
   "source": [
    "import os\n",
    "import pandas as pd"
   ]
  },
  {
   "cell_type": "markdown",
   "id": "8bb910b9-a6be-41a8-9df0-938ab17e10b5",
   "metadata": {},
   "source": [
    "### обработка файла"
   ]
  },
  {
   "cell_type": "code",
   "execution_count": 2,
   "id": "485cd9e0-32d0-4272-82c1-4b94b1b93de8",
   "metadata": {},
   "outputs": [],
   "source": [
    "COLUMNS = [\"x1\", \"Реестровый номер контракта\", \"x2\", \"x3\", \"x4\", \"x5\",\n",
    "                      \"x6\", \"x7\", \"x8\", \"x9\", \"x10\", \"x11\", \"x12\",\n",
    "                      \"date1\", \"date2\", \"date3\", \"date4\", \"date5\", \"date6\", \"x13\", \"x14\",\n",
    "                      \"x15\", \"x16\", \"x17\", \"x18\", \"y_description\", \"y\"]\n",
    "PATH = r\"C:\\Users\\AnnaZheleznova\\Documents\\Cource_BigData\\Diplom\\D\"\n",
    "SEP = \"___\""
   ]
  },
  {
   "cell_type": "code",
   "execution_count": 3,
   "id": "157be418-05c3-4aa0-a123-5f896aeb9df0",
   "metadata": {},
   "outputs": [
    {
     "name": "stderr",
     "output_type": "stream",
     "text": [
      "C:\\Users\\AnnaZheleznova\\AppData\\Local\\Temp\\ipykernel_9892\\4278599090.py:4: DtypeWarning: Columns (6,26) have mixed types. Specify dtype option on import or set low_memory=False.\n",
      "  for df in reader:\n",
      "C:\\Users\\AnnaZheleznova\\AppData\\Local\\Temp\\ipykernel_9892\\4278599090.py:4: DtypeWarning: Columns (6,26) have mixed types. Specify dtype option on import or set low_memory=False.\n",
      "  for df in reader:\n",
      "C:\\Users\\AnnaZheleznova\\AppData\\Local\\Temp\\ipykernel_9892\\4278599090.py:4: DtypeWarning: Columns (6) have mixed types. Specify dtype option on import or set low_memory=False.\n",
      "  for df in reader:\n"
     ]
    }
   ],
   "source": [
    "chunksize = 10 ** 6\n",
    "i = 0\n",
    "with pd.read_csv('fz.zip', chunksize=chunksize, on_bad_lines=\"skip\") as reader:\n",
    "    for df in reader:\n",
    "        if i < 3:\n",
    "            i += 1\n",
    "            continue\n",
    "\n",
    "        df.columns = COLUMNS\n",
    "\n",
    "        df[\"y\"] = df[\"y\"].astype(str)\n",
    "        df = df[df[\"y\"] != \"<НЕ ОПРЕДЕЛЕНО>\"]\n",
    "        df = df[df[\"y\"] != \"<НЕ РАСПРЕДЕЛЕНО>\"]\n",
    "        df = df[df[\"y\"].str.len() == 4]\n",
    "\n",
    "        break"
   ]
  },
  {
   "cell_type": "code",
   "execution_count": 4,
   "id": "72cdc587-a433-4bfe-94bf-25446849831f",
   "metadata": {},
   "outputs": [
    {
     "data": {
      "text/plain": [
       "array(['41.2', '43.3', '19.2', '21.1', '21.2', '22.1', '20.5', '86.9',\n",
       "       '32.5', '17.1', '81.2', '71.2', '14.1', '80.1', '61.1', '60.1',\n",
       "       '25.9', '33.1', '10.7', '10.3', '10.8', '27.5', '80.2', '96.0',\n",
       "       '17.2', '10.5', '10.1', '31.0', '01.1', '01.2', '10.6', '28.2',\n",
       "       '20.2', '36.0', '20.1', '25.7', '23.9', '27.4', '10.4', '10.2',\n",
       "       '13.2', '58.1', '38.2', '01.4', '58.2', '24.1', '26.6', '26.5',\n",
       "       '22.2', '13.9', '20.4', '38.1', '25.1', '28.1', '24.4', '23.4',\n",
       "       '65.1', '35.2', '20.3', '32.9', '43.2', '26.3', '18.1', '56.2',\n",
       "       '63.1', '26.2', '08.9', '95.1', '29.3', '46.1', '35.1', '35.3',\n",
       "       '43.9', '26.4', '27.3', '61.9', '37.0', '71.1', '15.2', '85.4',\n",
       "       '82.3', '46.5', '24.5', '25.2', '14.3', '28.9', '27.1', '27.9',\n",
       "       '23.5', '23.6', '03.1', '28.3', '14.2', '15.1', '10.9', '11.0',\n",
       "       '62.0', '63.9', '53.1', '84.2', '86.1', '68.2', '16.2', '61.2',\n",
       "       '74.9', '73.2', '49.3', '53.2', '81.1', '46.3', '32.3', '69.2',\n",
       "       '86.2', '42.1', '68.1', '45.2', '27.2', '90.0', '30.9', '13.1',\n",
       "       '59.2', '33.2', '06.2', '26.7', '23.1', '24.3', '24.2', '82.1',\n",
       "       '68.3', '47.5', '59.1', '52.2', '55.1', '73.1', '51.1', '47.7',\n",
       "       '16.1', '84.1', '85.2', '41.1', '81.3', '79.1', '28.4', '47.4',\n",
       "       '43.1', '52.1', '50.1', '61.3', '01.3', '29.1', '03.2', '08.1',\n",
       "       '46.4', '42.2', '46.9', '49.5', '49.4', '75.0', '29.2', '82.9',\n",
       "       '32.4', '02.2', '46.7', '26.1', '45.1', '23.3', '42.9', '46.6',\n",
       "       '32.1', '74.3', '93.2', '45.3', '05.1', '47.6', '23.7', '77.3',\n",
       "       '77.2', '79.9', '60.2', '56.1', '32.2', '95.2', '25.3', '77.1',\n",
       "       '45.4', '74.2', '26.8', '85.3', '20.6', '02.3', '99.0', '47.3',\n",
       "       '66.1', '64.9', '72.1', '93.1', '85.1', '25.4', '94.1', '64.1',\n",
       "       '02.4', '55.9', '91.0', '70.2', '69.1', '66.2', '87.9', '06.1',\n",
       "       '72.2', '70.1', '55.2', '74.1', '88.9', '49.1', '02.1', '51.2',\n",
       "       '94.9', '25.6', '30.3', '09.1', '05.2', '47.2', '78.3', '82.2',\n",
       "       '30.2', '01.7', '23.2', '77.4', '97.0', '13.3', '30.1', '64.2',\n",
       "       '47.1', '12.0', '19.1', '46.2', '39.0', '18.2', '47.9', '88.1',\n",
       "       '87.3', '87.2', '78.2', '47.8', '09.9', '87.1', '25.5', '01.6',\n",
       "       '84.3', '98.1', '56.3', '50.3', '55.3', '65.2', '19.3', '49.2',\n",
       "       '07.2', '78.1', '38.3', '30.4', '50.4', '50.2', '80.3', '92.2',\n",
       "       '98.2', '07.1', '94.2'], dtype=object)"
      ]
     },
     "execution_count": 4,
     "metadata": {},
     "output_type": "execute_result"
    }
   ],
   "source": [
    "df[\"y\"].unique()"
   ]
  },
  {
   "cell_type": "code",
   "execution_count": 5,
   "id": "4b6551af-7283-41b8-9693-64f287eebd32",
   "metadata": {},
   "outputs": [
    {
     "data": {
      "text/plain": [
       "array(['41.2', '43.3', '19.2', '21.1', '21.2', '22.1', '20.5', '86.9',\n",
       "       '32.5', '17.1', '81.2', '71.2', '14.1', '80.1', '61.1', '60.1',\n",
       "       '25.9', '33.1', '10.7', '10.3', '10.8', '27.5', '80.2', '96.0',\n",
       "       '17.2', '10.5', '10.1', '31.0', '01.1', '01.2', '10.6', '28.2',\n",
       "       '20.2', '36.0', '20.1', '25.7', '23.9', '27.4', '10.4', '10.2',\n",
       "       '13.2', '58.1', '38.2', '01.4', '58.2', '24.1', '26.6', '26.5',\n",
       "       '22.2', '13.9', '20.4', '38.1', '25.1', '28.1', '24.4', '23.4',\n",
       "       '65.1', '35.2', '20.3', '32.9', '43.2', '26.3', '18.1', '56.2',\n",
       "       '63.1', '26.2', '08.9', '95.1', '29.3', '46.1', '35.1', '35.3',\n",
       "       '43.9', '26.4', '27.3', '61.9', '37.0', '71.1', '15.2', '85.4',\n",
       "       '82.3', '46.5', '24.5', '25.2', '14.3', '28.9', '27.1', '27.9',\n",
       "       '23.5', '23.6', '03.1', '28.3', '14.2', '15.1', '10.9', '11.0',\n",
       "       '62.0', '63.9', '53.1', '84.2', '86.1', '68.2', '16.2', '61.2',\n",
       "       '74.9', '73.2', '49.3', '53.2', '81.1', '46.3', '32.3', '69.2',\n",
       "       '86.2', '42.1', '68.1', '45.2', '27.2', '90.0', '30.9', '13.1',\n",
       "       '59.2', '33.2', '06.2', '26.7', '23.1', '24.3', '24.2', '82.1',\n",
       "       '68.3', '47.5', '59.1', '52.2', '55.1', '73.1', '51.1', '47.7',\n",
       "       '16.1', '84.1', '85.2', '41.1', '81.3', '79.1', '28.4', '47.4',\n",
       "       '43.1', '52.1', '50.1', '61.3', '01.3', '29.1', '03.2', '08.1',\n",
       "       '46.4', '42.2', '46.9', '49.5', '49.4', '75.0', '29.2', '82.9',\n",
       "       '32.4', '02.2', '46.7', '26.1', '45.1', '23.3', '42.9', '46.6',\n",
       "       '32.1', '74.3', '93.2', '45.3', '05.1', '47.6', '23.7', '77.3',\n",
       "       '77.2', '79.9', '60.2', '56.1', '32.2', '95.2', '25.3', '77.1',\n",
       "       '45.4', '74.2', '26.8', '85.3', '20.6', '02.3', '99.0', '47.3',\n",
       "       '66.1', '64.9', '72.1', '93.1', '85.1', '25.4', '94.1', '64.1',\n",
       "       '02.4', '55.9', '91.0', '70.2', '69.1', '66.2', '87.9', '06.1',\n",
       "       '72.2', '70.1', '55.2', '74.1', '88.9', '49.1', '02.1', '51.2',\n",
       "       '94.9', '25.6', '30.3', '09.1', '05.2', '47.2', '78.3', '82.2',\n",
       "       '30.2', '01.7', '23.2', '77.4', '97.0', '13.3', '30.1', '64.2',\n",
       "       '47.1', '12.0', '19.1', '46.2', '39.0', '18.2', '47.9', '88.1',\n",
       "       '87.3', '87.2', '78.2', '47.8', '09.9', '87.1', '25.5', '01.6',\n",
       "       '84.3', '98.1', '56.3', '50.3', '55.3', '65.2', '19.3', '49.2',\n",
       "       '07.2', '78.1', '38.3', '30.4', '50.4', '50.2', '80.3', '92.2',\n",
       "       '98.2', '07.1', '94.2'], dtype=object)"
      ]
     },
     "execution_count": 5,
     "metadata": {},
     "output_type": "execute_result"
    }
   ],
   "source": [
    "t = df[df[\"y\"].str.len() == 4]\n",
    "t[\"y\"].unique()"
   ]
  },
  {
   "cell_type": "code",
   "execution_count": 6,
   "id": "ff19206e-2b5e-4b03-9ce3-af673c6235c6",
   "metadata": {},
   "outputs": [
    {
     "name": "stderr",
     "output_type": "stream",
     "text": [
      "C:\\Users\\AnnaZheleznova\\AppData\\Local\\Temp\\ipykernel_9892\\219882354.py:4: DtypeWarning: Columns (6,21,26) have mixed types. Specify dtype option on import or set low_memory=False.\n",
      "  for df in reader:\n"
     ]
    },
    {
     "name": "stdout",
     "output_type": "stream",
     "text": [
      "0, "
     ]
    },
    {
     "name": "stderr",
     "output_type": "stream",
     "text": [
      "C:\\Users\\AnnaZheleznova\\AppData\\Local\\Temp\\ipykernel_9892\\219882354.py:4: DtypeWarning: Columns (21) have mixed types. Specify dtype option on import or set low_memory=False.\n",
      "  for df in reader:\n"
     ]
    },
    {
     "name": "stdout",
     "output_type": "stream",
     "text": [
      "1, "
     ]
    },
    {
     "name": "stderr",
     "output_type": "stream",
     "text": [
      "C:\\Users\\AnnaZheleznova\\AppData\\Local\\Temp\\ipykernel_9892\\219882354.py:4: DtypeWarning: Columns (21) have mixed types. Specify dtype option on import or set low_memory=False.\n",
      "  for df in reader:\n"
     ]
    },
    {
     "name": "stdout",
     "output_type": "stream",
     "text": [
      "2, "
     ]
    },
    {
     "name": "stderr",
     "output_type": "stream",
     "text": [
      "C:\\Users\\AnnaZheleznova\\AppData\\Local\\Temp\\ipykernel_9892\\219882354.py:4: DtypeWarning: Columns (6,21) have mixed types. Specify dtype option on import or set low_memory=False.\n",
      "  for df in reader:\n"
     ]
    },
    {
     "name": "stdout",
     "output_type": "stream",
     "text": [
      "3, "
     ]
    },
    {
     "name": "stderr",
     "output_type": "stream",
     "text": [
      "C:\\Users\\AnnaZheleznova\\AppData\\Local\\Temp\\ipykernel_9892\\219882354.py:4: DtypeWarning: Columns (6,21) have mixed types. Specify dtype option on import or set low_memory=False.\n",
      "  for df in reader:\n"
     ]
    },
    {
     "name": "stdout",
     "output_type": "stream",
     "text": [
      "4, "
     ]
    },
    {
     "name": "stderr",
     "output_type": "stream",
     "text": [
      "C:\\Users\\AnnaZheleznova\\AppData\\Local\\Temp\\ipykernel_9892\\219882354.py:4: DtypeWarning: Columns (6,26) have mixed types. Specify dtype option on import or set low_memory=False.\n",
      "  for df in reader:\n"
     ]
    },
    {
     "name": "stdout",
     "output_type": "stream",
     "text": [
      "5, 6, "
     ]
    },
    {
     "name": "stderr",
     "output_type": "stream",
     "text": [
      "C:\\Users\\AnnaZheleznova\\AppData\\Local\\Temp\\ipykernel_9892\\219882354.py:4: DtypeWarning: Columns (6) have mixed types. Specify dtype option on import or set low_memory=False.\n",
      "  for df in reader:\n"
     ]
    },
    {
     "name": "stdout",
     "output_type": "stream",
     "text": [
      "7, 8, 9, "
     ]
    },
    {
     "name": "stderr",
     "output_type": "stream",
     "text": [
      "C:\\Users\\AnnaZheleznova\\AppData\\Local\\Temp\\ipykernel_9892\\219882354.py:4: DtypeWarning: Columns (6) have mixed types. Specify dtype option on import or set low_memory=False.\n",
      "  for df in reader:\n"
     ]
    },
    {
     "name": "stdout",
     "output_type": "stream",
     "text": [
      "10, "
     ]
    },
    {
     "name": "stderr",
     "output_type": "stream",
     "text": [
      "C:\\Users\\AnnaZheleznova\\AppData\\Local\\Temp\\ipykernel_9892\\219882354.py:4: DtypeWarning: Columns (6) have mixed types. Specify dtype option on import or set low_memory=False.\n",
      "  for df in reader:\n"
     ]
    },
    {
     "name": "stdout",
     "output_type": "stream",
     "text": [
      "11, "
     ]
    },
    {
     "name": "stderr",
     "output_type": "stream",
     "text": [
      "C:\\Users\\AnnaZheleznova\\AppData\\Local\\Temp\\ipykernel_9892\\219882354.py:4: DtypeWarning: Columns (6) have mixed types. Specify dtype option on import or set low_memory=False.\n",
      "  for df in reader:\n"
     ]
    },
    {
     "name": "stdout",
     "output_type": "stream",
     "text": [
      "12, 13, "
     ]
    },
    {
     "name": "stderr",
     "output_type": "stream",
     "text": [
      "C:\\Users\\AnnaZheleznova\\AppData\\Local\\Temp\\ipykernel_9892\\219882354.py:4: DtypeWarning: Columns (6,21) have mixed types. Specify dtype option on import or set low_memory=False.\n",
      "  for df in reader:\n"
     ]
    },
    {
     "name": "stdout",
     "output_type": "stream",
     "text": [
      "14, "
     ]
    },
    {
     "name": "stderr",
     "output_type": "stream",
     "text": [
      "C:\\Users\\AnnaZheleznova\\AppData\\Local\\Temp\\ipykernel_9892\\219882354.py:4: DtypeWarning: Columns (6) have mixed types. Specify dtype option on import or set low_memory=False.\n",
      "  for df in reader:\n"
     ]
    },
    {
     "name": "stdout",
     "output_type": "stream",
     "text": [
      "15, 16, "
     ]
    },
    {
     "name": "stderr",
     "output_type": "stream",
     "text": [
      "C:\\Users\\AnnaZheleznova\\AppData\\Local\\Temp\\ipykernel_9892\\219882354.py:4: DtypeWarning: Columns (6) have mixed types. Specify dtype option on import or set low_memory=False.\n",
      "  for df in reader:\n"
     ]
    },
    {
     "name": "stdout",
     "output_type": "stream",
     "text": [
      "17, "
     ]
    },
    {
     "name": "stderr",
     "output_type": "stream",
     "text": [
      "C:\\Users\\AnnaZheleznova\\AppData\\Local\\Temp\\ipykernel_9892\\219882354.py:4: DtypeWarning: Columns (6) have mixed types. Specify dtype option on import or set low_memory=False.\n",
      "  for df in reader:\n"
     ]
    },
    {
     "name": "stdout",
     "output_type": "stream",
     "text": [
      "18, 19, "
     ]
    },
    {
     "name": "stderr",
     "output_type": "stream",
     "text": [
      "C:\\Users\\AnnaZheleznova\\AppData\\Local\\Temp\\ipykernel_9892\\219882354.py:4: DtypeWarning: Columns (6) have mixed types. Specify dtype option on import or set low_memory=False.\n",
      "  for df in reader:\n"
     ]
    },
    {
     "name": "stdout",
     "output_type": "stream",
     "text": [
      "20, 21, "
     ]
    },
    {
     "name": "stderr",
     "output_type": "stream",
     "text": [
      "C:\\Users\\AnnaZheleznova\\AppData\\Local\\Temp\\ipykernel_9892\\219882354.py:4: DtypeWarning: Columns (6) have mixed types. Specify dtype option on import or set low_memory=False.\n",
      "  for df in reader:\n"
     ]
    },
    {
     "name": "stdout",
     "output_type": "stream",
     "text": [
      "22, "
     ]
    },
    {
     "name": "stderr",
     "output_type": "stream",
     "text": [
      "C:\\Users\\AnnaZheleznova\\AppData\\Local\\Temp\\ipykernel_9892\\219882354.py:4: DtypeWarning: Columns (6) have mixed types. Specify dtype option on import or set low_memory=False.\n",
      "  for df in reader:\n"
     ]
    },
    {
     "name": "stdout",
     "output_type": "stream",
     "text": [
      "23, "
     ]
    },
    {
     "name": "stderr",
     "output_type": "stream",
     "text": [
      "C:\\Users\\AnnaZheleznova\\AppData\\Local\\Temp\\ipykernel_9892\\219882354.py:4: DtypeWarning: Columns (6) have mixed types. Specify dtype option on import or set low_memory=False.\n",
      "  for df in reader:\n"
     ]
    },
    {
     "name": "stdout",
     "output_type": "stream",
     "text": [
      "24, "
     ]
    },
    {
     "name": "stderr",
     "output_type": "stream",
     "text": [
      "C:\\Users\\AnnaZheleznova\\AppData\\Local\\Temp\\ipykernel_9892\\219882354.py:4: DtypeWarning: Columns (6) have mixed types. Specify dtype option on import or set low_memory=False.\n",
      "  for df in reader:\n"
     ]
    },
    {
     "name": "stdout",
     "output_type": "stream",
     "text": [
      "25, "
     ]
    },
    {
     "name": "stderr",
     "output_type": "stream",
     "text": [
      "C:\\Users\\AnnaZheleznova\\AppData\\Local\\Temp\\ipykernel_9892\\219882354.py:4: DtypeWarning: Columns (6) have mixed types. Specify dtype option on import or set low_memory=False.\n",
      "  for df in reader:\n"
     ]
    },
    {
     "name": "stdout",
     "output_type": "stream",
     "text": [
      "26, 27, 28, "
     ]
    },
    {
     "name": "stderr",
     "output_type": "stream",
     "text": [
      "C:\\Users\\AnnaZheleznova\\AppData\\Local\\Temp\\ipykernel_9892\\219882354.py:4: DtypeWarning: Columns (6) have mixed types. Specify dtype option on import or set low_memory=False.\n",
      "  for df in reader:\n"
     ]
    },
    {
     "name": "stdout",
     "output_type": "stream",
     "text": [
      "29, 30, "
     ]
    },
    {
     "name": "stderr",
     "output_type": "stream",
     "text": [
      "C:\\Users\\AnnaZheleznova\\AppData\\Local\\Temp\\ipykernel_9892\\219882354.py:4: DtypeWarning: Columns (6) have mixed types. Specify dtype option on import or set low_memory=False.\n",
      "  for df in reader:\n"
     ]
    },
    {
     "name": "stdout",
     "output_type": "stream",
     "text": [
      "31, "
     ]
    },
    {
     "name": "stderr",
     "output_type": "stream",
     "text": [
      "C:\\Users\\AnnaZheleznova\\AppData\\Local\\Temp\\ipykernel_9892\\219882354.py:4: DtypeWarning: Columns (6) have mixed types. Specify dtype option on import or set low_memory=False.\n",
      "  for df in reader:\n"
     ]
    },
    {
     "name": "stdout",
     "output_type": "stream",
     "text": [
      "32, 33, 34, 35, 36, "
     ]
    },
    {
     "name": "stderr",
     "output_type": "stream",
     "text": [
      "C:\\Users\\AnnaZheleznova\\AppData\\Local\\Temp\\ipykernel_9892\\219882354.py:4: DtypeWarning: Columns (6) have mixed types. Specify dtype option on import or set low_memory=False.\n",
      "  for df in reader:\n"
     ]
    },
    {
     "name": "stdout",
     "output_type": "stream",
     "text": [
      "37, 38, 39, 40, 41, 42, "
     ]
    },
    {
     "name": "stderr",
     "output_type": "stream",
     "text": [
      "C:\\Users\\AnnaZheleznova\\AppData\\Local\\Temp\\ipykernel_9892\\219882354.py:4: DtypeWarning: Columns (6) have mixed types. Specify dtype option on import or set low_memory=False.\n",
      "  for df in reader:\n"
     ]
    },
    {
     "name": "stdout",
     "output_type": "stream",
     "text": [
      "43, 44, "
     ]
    },
    {
     "name": "stderr",
     "output_type": "stream",
     "text": [
      "C:\\Users\\AnnaZheleznova\\AppData\\Local\\Temp\\ipykernel_9892\\219882354.py:4: DtypeWarning: Columns (6) have mixed types. Specify dtype option on import or set low_memory=False.\n",
      "  for df in reader:\n"
     ]
    },
    {
     "name": "stdout",
     "output_type": "stream",
     "text": [
      "45, 46, "
     ]
    },
    {
     "name": "stderr",
     "output_type": "stream",
     "text": [
      "C:\\Users\\AnnaZheleznova\\AppData\\Local\\Temp\\ipykernel_9892\\219882354.py:4: DtypeWarning: Columns (6) have mixed types. Specify dtype option on import or set low_memory=False.\n",
      "  for df in reader:\n"
     ]
    },
    {
     "name": "stdout",
     "output_type": "stream",
     "text": [
      "47, "
     ]
    },
    {
     "name": "stderr",
     "output_type": "stream",
     "text": [
      "C:\\Users\\AnnaZheleznova\\AppData\\Local\\Temp\\ipykernel_9892\\219882354.py:4: DtypeWarning: Columns (6) have mixed types. Specify dtype option on import or set low_memory=False.\n",
      "  for df in reader:\n"
     ]
    },
    {
     "name": "stdout",
     "output_type": "stream",
     "text": [
      "48, "
     ]
    },
    {
     "name": "stderr",
     "output_type": "stream",
     "text": [
      "C:\\Users\\AnnaZheleznova\\AppData\\Local\\Temp\\ipykernel_9892\\219882354.py:4: DtypeWarning: Columns (6) have mixed types. Specify dtype option on import or set low_memory=False.\n",
      "  for df in reader:\n"
     ]
    },
    {
     "name": "stdout",
     "output_type": "stream",
     "text": [
      "49, "
     ]
    },
    {
     "name": "stderr",
     "output_type": "stream",
     "text": [
      "C:\\Users\\AnnaZheleznova\\AppData\\Local\\Temp\\ipykernel_9892\\219882354.py:4: DtypeWarning: Columns (6) have mixed types. Specify dtype option on import or set low_memory=False.\n",
      "  for df in reader:\n"
     ]
    },
    {
     "name": "stdout",
     "output_type": "stream",
     "text": [
      "50, 51, "
     ]
    },
    {
     "name": "stderr",
     "output_type": "stream",
     "text": [
      "C:\\Users\\AnnaZheleznova\\AppData\\Local\\Temp\\ipykernel_9892\\219882354.py:4: DtypeWarning: Columns (6) have mixed types. Specify dtype option on import or set low_memory=False.\n",
      "  for df in reader:\n"
     ]
    },
    {
     "name": "stdout",
     "output_type": "stream",
     "text": [
      "52, "
     ]
    },
    {
     "name": "stderr",
     "output_type": "stream",
     "text": [
      "C:\\Users\\AnnaZheleznova\\AppData\\Local\\Temp\\ipykernel_9892\\219882354.py:4: DtypeWarning: Columns (6) have mixed types. Specify dtype option on import or set low_memory=False.\n",
      "  for df in reader:\n"
     ]
    },
    {
     "name": "stdout",
     "output_type": "stream",
     "text": [
      "53, "
     ]
    },
    {
     "name": "stderr",
     "output_type": "stream",
     "text": [
      "C:\\Users\\AnnaZheleznova\\AppData\\Local\\Temp\\ipykernel_9892\\219882354.py:4: DtypeWarning: Columns (6) have mixed types. Specify dtype option on import or set low_memory=False.\n",
      "  for df in reader:\n"
     ]
    },
    {
     "name": "stdout",
     "output_type": "stream",
     "text": [
      "54, 55, "
     ]
    },
    {
     "name": "stderr",
     "output_type": "stream",
     "text": [
      "C:\\Users\\AnnaZheleznova\\AppData\\Local\\Temp\\ipykernel_9892\\219882354.py:4: DtypeWarning: Columns (6) have mixed types. Specify dtype option on import or set low_memory=False.\n",
      "  for df in reader:\n"
     ]
    },
    {
     "name": "stdout",
     "output_type": "stream",
     "text": [
      "56, "
     ]
    },
    {
     "name": "stderr",
     "output_type": "stream",
     "text": [
      "C:\\Users\\AnnaZheleznova\\AppData\\Local\\Temp\\ipykernel_9892\\219882354.py:4: DtypeWarning: Columns (6) have mixed types. Specify dtype option on import or set low_memory=False.\n",
      "  for df in reader:\n"
     ]
    },
    {
     "name": "stdout",
     "output_type": "stream",
     "text": [
      "57, 58, 59, 60, 61, "
     ]
    },
    {
     "name": "stderr",
     "output_type": "stream",
     "text": [
      "C:\\Users\\AnnaZheleznova\\AppData\\Local\\Temp\\ipykernel_9892\\219882354.py:4: DtypeWarning: Columns (6) have mixed types. Specify dtype option on import or set low_memory=False.\n",
      "  for df in reader:\n"
     ]
    },
    {
     "name": "stdout",
     "output_type": "stream",
     "text": [
      "62, 63, "
     ]
    },
    {
     "name": "stderr",
     "output_type": "stream",
     "text": [
      "C:\\Users\\AnnaZheleznova\\AppData\\Local\\Temp\\ipykernel_9892\\219882354.py:4: DtypeWarning: Columns (6) have mixed types. Specify dtype option on import or set low_memory=False.\n",
      "  for df in reader:\n"
     ]
    },
    {
     "name": "stdout",
     "output_type": "stream",
     "text": [
      "64, "
     ]
    },
    {
     "name": "stderr",
     "output_type": "stream",
     "text": [
      "C:\\Users\\AnnaZheleznova\\AppData\\Local\\Temp\\ipykernel_9892\\219882354.py:4: DtypeWarning: Columns (6) have mixed types. Specify dtype option on import or set low_memory=False.\n",
      "  for df in reader:\n"
     ]
    },
    {
     "name": "stdout",
     "output_type": "stream",
     "text": [
      "65, "
     ]
    },
    {
     "name": "stderr",
     "output_type": "stream",
     "text": [
      "C:\\Users\\AnnaZheleznova\\AppData\\Local\\Temp\\ipykernel_9892\\219882354.py:4: DtypeWarning: Columns (6) have mixed types. Specify dtype option on import or set low_memory=False.\n",
      "  for df in reader:\n"
     ]
    },
    {
     "name": "stdout",
     "output_type": "stream",
     "text": [
      "66, "
     ]
    },
    {
     "name": "stderr",
     "output_type": "stream",
     "text": [
      "C:\\Users\\AnnaZheleznova\\AppData\\Local\\Temp\\ipykernel_9892\\219882354.py:4: DtypeWarning: Columns (6) have mixed types. Specify dtype option on import or set low_memory=False.\n",
      "  for df in reader:\n"
     ]
    },
    {
     "name": "stdout",
     "output_type": "stream",
     "text": [
      "67, 68, 69, 70, "
     ]
    },
    {
     "name": "stderr",
     "output_type": "stream",
     "text": [
      "C:\\Users\\AnnaZheleznova\\AppData\\Local\\Temp\\ipykernel_9892\\219882354.py:4: DtypeWarning: Columns (6) have mixed types. Specify dtype option on import or set low_memory=False.\n",
      "  for df in reader:\n"
     ]
    },
    {
     "name": "stdout",
     "output_type": "stream",
     "text": [
      "71, 72, "
     ]
    },
    {
     "name": "stderr",
     "output_type": "stream",
     "text": [
      "C:\\Users\\AnnaZheleznova\\AppData\\Local\\Temp\\ipykernel_9892\\219882354.py:4: DtypeWarning: Columns (6) have mixed types. Specify dtype option on import or set low_memory=False.\n",
      "  for df in reader:\n"
     ]
    },
    {
     "name": "stdout",
     "output_type": "stream",
     "text": [
      "73, 74, "
     ]
    },
    {
     "name": "stderr",
     "output_type": "stream",
     "text": [
      "C:\\Users\\AnnaZheleznova\\AppData\\Local\\Temp\\ipykernel_9892\\219882354.py:4: DtypeWarning: Columns (6) have mixed types. Specify dtype option on import or set low_memory=False.\n",
      "  for df in reader:\n"
     ]
    },
    {
     "name": "stdout",
     "output_type": "stream",
     "text": [
      "75, "
     ]
    },
    {
     "name": "stderr",
     "output_type": "stream",
     "text": [
      "C:\\Users\\AnnaZheleznova\\AppData\\Local\\Temp\\ipykernel_9892\\219882354.py:4: DtypeWarning: Columns (6) have mixed types. Specify dtype option on import or set low_memory=False.\n",
      "  for df in reader:\n"
     ]
    },
    {
     "name": "stdout",
     "output_type": "stream",
     "text": [
      "76, "
     ]
    },
    {
     "name": "stderr",
     "output_type": "stream",
     "text": [
      "C:\\Users\\AnnaZheleznova\\AppData\\Local\\Temp\\ipykernel_9892\\219882354.py:4: DtypeWarning: Columns (6) have mixed types. Specify dtype option on import or set low_memory=False.\n",
      "  for df in reader:\n"
     ]
    },
    {
     "name": "stdout",
     "output_type": "stream",
     "text": [
      "77, 78, "
     ]
    },
    {
     "name": "stderr",
     "output_type": "stream",
     "text": [
      "C:\\Users\\AnnaZheleznova\\AppData\\Local\\Temp\\ipykernel_9892\\219882354.py:4: DtypeWarning: Columns (6) have mixed types. Specify dtype option on import or set low_memory=False.\n",
      "  for df in reader:\n"
     ]
    },
    {
     "name": "stdout",
     "output_type": "stream",
     "text": [
      "79, 80, 81, "
     ]
    },
    {
     "name": "stderr",
     "output_type": "stream",
     "text": [
      "C:\\Users\\AnnaZheleznova\\AppData\\Local\\Temp\\ipykernel_9892\\219882354.py:4: DtypeWarning: Columns (6) have mixed types. Specify dtype option on import or set low_memory=False.\n",
      "  for df in reader:\n"
     ]
    },
    {
     "name": "stdout",
     "output_type": "stream",
     "text": [
      "82, "
     ]
    },
    {
     "name": "stderr",
     "output_type": "stream",
     "text": [
      "C:\\Users\\AnnaZheleznova\\AppData\\Local\\Temp\\ipykernel_9892\\219882354.py:4: DtypeWarning: Columns (6) have mixed types. Specify dtype option on import or set low_memory=False.\n",
      "  for df in reader:\n"
     ]
    },
    {
     "name": "stdout",
     "output_type": "stream",
     "text": [
      "83, 84, "
     ]
    },
    {
     "name": "stderr",
     "output_type": "stream",
     "text": [
      "C:\\Users\\AnnaZheleznova\\AppData\\Local\\Temp\\ipykernel_9892\\219882354.py:4: DtypeWarning: Columns (6) have mixed types. Specify dtype option on import or set low_memory=False.\n",
      "  for df in reader:\n"
     ]
    },
    {
     "name": "stdout",
     "output_type": "stream",
     "text": [
      "85, 86, 87, 88, 89, "
     ]
    },
    {
     "name": "stderr",
     "output_type": "stream",
     "text": [
      "C:\\Users\\AnnaZheleznova\\AppData\\Local\\Temp\\ipykernel_9892\\219882354.py:4: DtypeWarning: Columns (6) have mixed types. Specify dtype option on import or set low_memory=False.\n",
      "  for df in reader:\n"
     ]
    },
    {
     "name": "stdout",
     "output_type": "stream",
     "text": [
      "90, "
     ]
    },
    {
     "name": "stderr",
     "output_type": "stream",
     "text": [
      "C:\\Users\\AnnaZheleznova\\AppData\\Local\\Temp\\ipykernel_9892\\219882354.py:4: DtypeWarning: Columns (6) have mixed types. Specify dtype option on import or set low_memory=False.\n",
      "  for df in reader:\n"
     ]
    },
    {
     "name": "stdout",
     "output_type": "stream",
     "text": [
      "91, 92, "
     ]
    },
    {
     "name": "stderr",
     "output_type": "stream",
     "text": [
      "C:\\Users\\AnnaZheleznova\\AppData\\Local\\Temp\\ipykernel_9892\\219882354.py:4: DtypeWarning: Columns (6) have mixed types. Specify dtype option on import or set low_memory=False.\n",
      "  for df in reader:\n"
     ]
    },
    {
     "name": "stdout",
     "output_type": "stream",
     "text": [
      "93, "
     ]
    },
    {
     "name": "stderr",
     "output_type": "stream",
     "text": [
      "C:\\Users\\AnnaZheleznova\\AppData\\Local\\Temp\\ipykernel_9892\\219882354.py:4: DtypeWarning: Columns (6) have mixed types. Specify dtype option on import or set low_memory=False.\n",
      "  for df in reader:\n"
     ]
    },
    {
     "name": "stdout",
     "output_type": "stream",
     "text": [
      "94, "
     ]
    },
    {
     "name": "stderr",
     "output_type": "stream",
     "text": [
      "C:\\Users\\AnnaZheleznova\\AppData\\Local\\Temp\\ipykernel_9892\\219882354.py:4: DtypeWarning: Columns (6) have mixed types. Specify dtype option on import or set low_memory=False.\n",
      "  for df in reader:\n"
     ]
    },
    {
     "name": "stdout",
     "output_type": "stream",
     "text": [
      "95, 96, "
     ]
    },
    {
     "name": "stderr",
     "output_type": "stream",
     "text": [
      "C:\\Users\\AnnaZheleznova\\AppData\\Local\\Temp\\ipykernel_9892\\219882354.py:4: DtypeWarning: Columns (6,20,21,26) have mixed types. Specify dtype option on import or set low_memory=False.\n",
      "  for df in reader:\n"
     ]
    },
    {
     "name": "stdout",
     "output_type": "stream",
     "text": [
      "97, "
     ]
    },
    {
     "name": "stderr",
     "output_type": "stream",
     "text": [
      "C:\\Users\\AnnaZheleznova\\AppData\\Local\\Temp\\ipykernel_9892\\219882354.py:4: DtypeWarning: Columns (6) have mixed types. Specify dtype option on import or set low_memory=False.\n",
      "  for df in reader:\n"
     ]
    },
    {
     "name": "stdout",
     "output_type": "stream",
     "text": [
      "98, 99, "
     ]
    },
    {
     "name": "stderr",
     "output_type": "stream",
     "text": [
      "C:\\Users\\AnnaZheleznova\\AppData\\Local\\Temp\\ipykernel_9892\\219882354.py:4: DtypeWarning: Columns (6) have mixed types. Specify dtype option on import or set low_memory=False.\n",
      "  for df in reader:\n"
     ]
    },
    {
     "name": "stdout",
     "output_type": "stream",
     "text": [
      "100, 101, "
     ]
    },
    {
     "name": "stderr",
     "output_type": "stream",
     "text": [
      "C:\\Users\\AnnaZheleznova\\AppData\\Local\\Temp\\ipykernel_9892\\219882354.py:4: DtypeWarning: Columns (6) have mixed types. Specify dtype option on import or set low_memory=False.\n",
      "  for df in reader:\n"
     ]
    },
    {
     "name": "stdout",
     "output_type": "stream",
     "text": [
      "102, 103, 104, "
     ]
    },
    {
     "name": "stderr",
     "output_type": "stream",
     "text": [
      "C:\\Users\\AnnaZheleznova\\AppData\\Local\\Temp\\ipykernel_9892\\219882354.py:4: DtypeWarning: Columns (6) have mixed types. Specify dtype option on import or set low_memory=False.\n",
      "  for df in reader:\n"
     ]
    },
    {
     "name": "stdout",
     "output_type": "stream",
     "text": [
      "105, 106, 107, 108, 109, 110, 111, "
     ]
    },
    {
     "name": "stderr",
     "output_type": "stream",
     "text": [
      "C:\\Users\\AnnaZheleznova\\AppData\\Local\\Temp\\ipykernel_9892\\219882354.py:4: DtypeWarning: Columns (6) have mixed types. Specify dtype option on import or set low_memory=False.\n",
      "  for df in reader:\n"
     ]
    },
    {
     "name": "stdout",
     "output_type": "stream",
     "text": [
      "112, "
     ]
    },
    {
     "name": "stderr",
     "output_type": "stream",
     "text": [
      "C:\\Users\\AnnaZheleznova\\AppData\\Local\\Temp\\ipykernel_9892\\219882354.py:4: DtypeWarning: Columns (6) have mixed types. Specify dtype option on import or set low_memory=False.\n",
      "  for df in reader:\n"
     ]
    },
    {
     "name": "stdout",
     "output_type": "stream",
     "text": [
      "113, 114, 115, "
     ]
    },
    {
     "name": "stderr",
     "output_type": "stream",
     "text": [
      "C:\\Users\\AnnaZheleznova\\AppData\\Local\\Temp\\ipykernel_9892\\219882354.py:4: DtypeWarning: Columns (6) have mixed types. Specify dtype option on import or set low_memory=False.\n",
      "  for df in reader:\n"
     ]
    },
    {
     "name": "stdout",
     "output_type": "stream",
     "text": [
      "116, 117, "
     ]
    },
    {
     "name": "stderr",
     "output_type": "stream",
     "text": [
      "C:\\Users\\AnnaZheleznova\\AppData\\Local\\Temp\\ipykernel_9892\\219882354.py:4: DtypeWarning: Columns (6) have mixed types. Specify dtype option on import or set low_memory=False.\n",
      "  for df in reader:\n"
     ]
    },
    {
     "name": "stdout",
     "output_type": "stream",
     "text": [
      "118, "
     ]
    },
    {
     "name": "stderr",
     "output_type": "stream",
     "text": [
      "C:\\Users\\AnnaZheleznova\\AppData\\Local\\Temp\\ipykernel_9892\\219882354.py:4: DtypeWarning: Columns (6) have mixed types. Specify dtype option on import or set low_memory=False.\n",
      "  for df in reader:\n"
     ]
    },
    {
     "name": "stdout",
     "output_type": "stream",
     "text": [
      "119, "
     ]
    },
    {
     "name": "stderr",
     "output_type": "stream",
     "text": [
      "C:\\Users\\AnnaZheleznova\\AppData\\Local\\Temp\\ipykernel_9892\\219882354.py:4: DtypeWarning: Columns (6) have mixed types. Specify dtype option on import or set low_memory=False.\n",
      "  for df in reader:\n"
     ]
    },
    {
     "name": "stdout",
     "output_type": "stream",
     "text": [
      "120, 121, "
     ]
    },
    {
     "name": "stderr",
     "output_type": "stream",
     "text": [
      "C:\\Users\\AnnaZheleznova\\AppData\\Local\\Temp\\ipykernel_9892\\219882354.py:4: DtypeWarning: Columns (6) have mixed types. Specify dtype option on import or set low_memory=False.\n",
      "  for df in reader:\n"
     ]
    },
    {
     "name": "stdout",
     "output_type": "stream",
     "text": [
      "122, 123, 124, "
     ]
    },
    {
     "name": "stderr",
     "output_type": "stream",
     "text": [
      "C:\\Users\\AnnaZheleznova\\AppData\\Local\\Temp\\ipykernel_9892\\219882354.py:4: DtypeWarning: Columns (6) have mixed types. Specify dtype option on import or set low_memory=False.\n",
      "  for df in reader:\n"
     ]
    },
    {
     "name": "stdout",
     "output_type": "stream",
     "text": [
      "125, 126, "
     ]
    },
    {
     "name": "stderr",
     "output_type": "stream",
     "text": [
      "C:\\Users\\AnnaZheleznova\\AppData\\Local\\Temp\\ipykernel_9892\\219882354.py:4: DtypeWarning: Columns (6,21,26) have mixed types. Specify dtype option on import or set low_memory=False.\n",
      "  for df in reader:\n"
     ]
    },
    {
     "name": "stdout",
     "output_type": "stream",
     "text": [
      "127, 128, 129, "
     ]
    },
    {
     "name": "stderr",
     "output_type": "stream",
     "text": [
      "C:\\Users\\AnnaZheleznova\\AppData\\Local\\Temp\\ipykernel_9892\\219882354.py:4: DtypeWarning: Columns (6) have mixed types. Specify dtype option on import or set low_memory=False.\n",
      "  for df in reader:\n"
     ]
    },
    {
     "name": "stdout",
     "output_type": "stream",
     "text": [
      "130, 131, 132, "
     ]
    },
    {
     "name": "stderr",
     "output_type": "stream",
     "text": [
      "C:\\Users\\AnnaZheleznova\\AppData\\Local\\Temp\\ipykernel_9892\\219882354.py:4: DtypeWarning: Columns (6) have mixed types. Specify dtype option on import or set low_memory=False.\n",
      "  for df in reader:\n"
     ]
    },
    {
     "name": "stdout",
     "output_type": "stream",
     "text": [
      "133, "
     ]
    },
    {
     "name": "stderr",
     "output_type": "stream",
     "text": [
      "C:\\Users\\AnnaZheleznova\\AppData\\Local\\Temp\\ipykernel_9892\\219882354.py:4: DtypeWarning: Columns (6) have mixed types. Specify dtype option on import or set low_memory=False.\n",
      "  for df in reader:\n"
     ]
    },
    {
     "name": "stdout",
     "output_type": "stream",
     "text": [
      "134, 135, "
     ]
    },
    {
     "name": "stderr",
     "output_type": "stream",
     "text": [
      "C:\\Users\\AnnaZheleznova\\AppData\\Local\\Temp\\ipykernel_9892\\219882354.py:4: DtypeWarning: Columns (6) have mixed types. Specify dtype option on import or set low_memory=False.\n",
      "  for df in reader:\n"
     ]
    },
    {
     "name": "stdout",
     "output_type": "stream",
     "text": [
      "136, "
     ]
    },
    {
     "name": "stderr",
     "output_type": "stream",
     "text": [
      "C:\\Users\\AnnaZheleznova\\AppData\\Local\\Temp\\ipykernel_9892\\219882354.py:4: DtypeWarning: Columns (6) have mixed types. Specify dtype option on import or set low_memory=False.\n",
      "  for df in reader:\n"
     ]
    },
    {
     "name": "stdout",
     "output_type": "stream",
     "text": [
      "137, "
     ]
    },
    {
     "name": "stderr",
     "output_type": "stream",
     "text": [
      "C:\\Users\\AnnaZheleznova\\AppData\\Local\\Temp\\ipykernel_9892\\219882354.py:4: DtypeWarning: Columns (6) have mixed types. Specify dtype option on import or set low_memory=False.\n",
      "  for df in reader:\n"
     ]
    },
    {
     "name": "stdout",
     "output_type": "stream",
     "text": [
      "138, "
     ]
    },
    {
     "name": "stderr",
     "output_type": "stream",
     "text": [
      "C:\\Users\\AnnaZheleznova\\AppData\\Local\\Temp\\ipykernel_9892\\219882354.py:4: DtypeWarning: Columns (6) have mixed types. Specify dtype option on import or set low_memory=False.\n",
      "  for df in reader:\n"
     ]
    },
    {
     "name": "stdout",
     "output_type": "stream",
     "text": [
      "139, "
     ]
    },
    {
     "name": "stderr",
     "output_type": "stream",
     "text": [
      "C:\\Users\\AnnaZheleznova\\AppData\\Local\\Temp\\ipykernel_9892\\219882354.py:4: DtypeWarning: Columns (6) have mixed types. Specify dtype option on import or set low_memory=False.\n",
      "  for df in reader:\n"
     ]
    },
    {
     "name": "stdout",
     "output_type": "stream",
     "text": [
      "140, 141, 142, 143, "
     ]
    },
    {
     "name": "stderr",
     "output_type": "stream",
     "text": [
      "C:\\Users\\AnnaZheleznova\\AppData\\Local\\Temp\\ipykernel_9892\\219882354.py:4: DtypeWarning: Columns (6) have mixed types. Specify dtype option on import or set low_memory=False.\n",
      "  for df in reader:\n"
     ]
    },
    {
     "name": "stdout",
     "output_type": "stream",
     "text": [
      "144, "
     ]
    },
    {
     "name": "stderr",
     "output_type": "stream",
     "text": [
      "C:\\Users\\AnnaZheleznova\\AppData\\Local\\Temp\\ipykernel_9892\\219882354.py:4: DtypeWarning: Columns (6) have mixed types. Specify dtype option on import or set low_memory=False.\n",
      "  for df in reader:\n"
     ]
    },
    {
     "name": "stdout",
     "output_type": "stream",
     "text": [
      "145, 146, "
     ]
    },
    {
     "name": "stderr",
     "output_type": "stream",
     "text": [
      "C:\\Users\\AnnaZheleznova\\AppData\\Local\\Temp\\ipykernel_9892\\219882354.py:4: DtypeWarning: Columns (6,21) have mixed types. Specify dtype option on import or set low_memory=False.\n",
      "  for df in reader:\n"
     ]
    },
    {
     "name": "stdout",
     "output_type": "stream",
     "text": [
      "147, "
     ]
    },
    {
     "name": "stderr",
     "output_type": "stream",
     "text": [
      "C:\\Users\\AnnaZheleznova\\AppData\\Local\\Temp\\ipykernel_9892\\219882354.py:4: DtypeWarning: Columns (6) have mixed types. Specify dtype option on import or set low_memory=False.\n",
      "  for df in reader:\n"
     ]
    },
    {
     "name": "stdout",
     "output_type": "stream",
     "text": [
      "148, 149, 150, 151, "
     ]
    },
    {
     "name": "stderr",
     "output_type": "stream",
     "text": [
      "C:\\Users\\AnnaZheleznova\\AppData\\Local\\Temp\\ipykernel_9892\\219882354.py:4: DtypeWarning: Columns (6) have mixed types. Specify dtype option on import or set low_memory=False.\n",
      "  for df in reader:\n"
     ]
    },
    {
     "name": "stdout",
     "output_type": "stream",
     "text": [
      "152, 153, "
     ]
    },
    {
     "name": "stderr",
     "output_type": "stream",
     "text": [
      "C:\\Users\\AnnaZheleznova\\AppData\\Local\\Temp\\ipykernel_9892\\219882354.py:4: DtypeWarning: Columns (6) have mixed types. Specify dtype option on import or set low_memory=False.\n",
      "  for df in reader:\n"
     ]
    },
    {
     "name": "stdout",
     "output_type": "stream",
     "text": [
      "154, "
     ]
    },
    {
     "name": "stderr",
     "output_type": "stream",
     "text": [
      "C:\\Users\\AnnaZheleznova\\AppData\\Local\\Temp\\ipykernel_9892\\219882354.py:4: DtypeWarning: Columns (6) have mixed types. Specify dtype option on import or set low_memory=False.\n",
      "  for df in reader:\n"
     ]
    },
    {
     "name": "stdout",
     "output_type": "stream",
     "text": [
      "155, 156, 157, 158, 159, "
     ]
    },
    {
     "name": "stderr",
     "output_type": "stream",
     "text": [
      "C:\\Users\\AnnaZheleznova\\AppData\\Local\\Temp\\ipykernel_9892\\219882354.py:4: DtypeWarning: Columns (6) have mixed types. Specify dtype option on import or set low_memory=False.\n",
      "  for df in reader:\n"
     ]
    },
    {
     "name": "stdout",
     "output_type": "stream",
     "text": [
      "160, 161, "
     ]
    },
    {
     "name": "stderr",
     "output_type": "stream",
     "text": [
      "C:\\Users\\AnnaZheleznova\\AppData\\Local\\Temp\\ipykernel_9892\\219882354.py:4: DtypeWarning: Columns (6) have mixed types. Specify dtype option on import or set low_memory=False.\n",
      "  for df in reader:\n"
     ]
    },
    {
     "name": "stdout",
     "output_type": "stream",
     "text": [
      "162, 163, 164, 165, "
     ]
    },
    {
     "name": "stderr",
     "output_type": "stream",
     "text": [
      "C:\\Users\\AnnaZheleznova\\AppData\\Local\\Temp\\ipykernel_9892\\219882354.py:4: DtypeWarning: Columns (6) have mixed types. Specify dtype option on import or set low_memory=False.\n",
      "  for df in reader:\n"
     ]
    },
    {
     "name": "stdout",
     "output_type": "stream",
     "text": [
      "166, "
     ]
    },
    {
     "name": "stderr",
     "output_type": "stream",
     "text": [
      "C:\\Users\\AnnaZheleznova\\AppData\\Local\\Temp\\ipykernel_9892\\219882354.py:4: DtypeWarning: Columns (6) have mixed types. Specify dtype option on import or set low_memory=False.\n",
      "  for df in reader:\n"
     ]
    },
    {
     "name": "stdout",
     "output_type": "stream",
     "text": [
      "167, 168, 169, "
     ]
    },
    {
     "name": "stderr",
     "output_type": "stream",
     "text": [
      "C:\\Users\\AnnaZheleznova\\AppData\\Local\\Temp\\ipykernel_9892\\219882354.py:4: DtypeWarning: Columns (6) have mixed types. Specify dtype option on import or set low_memory=False.\n",
      "  for df in reader:\n"
     ]
    },
    {
     "name": "stdout",
     "output_type": "stream",
     "text": [
      "170, "
     ]
    },
    {
     "name": "stderr",
     "output_type": "stream",
     "text": [
      "C:\\Users\\AnnaZheleznova\\AppData\\Local\\Temp\\ipykernel_9892\\219882354.py:4: DtypeWarning: Columns (6) have mixed types. Specify dtype option on import or set low_memory=False.\n",
      "  for df in reader:\n"
     ]
    },
    {
     "name": "stdout",
     "output_type": "stream",
     "text": [
      "171, 172, 173, "
     ]
    },
    {
     "name": "stderr",
     "output_type": "stream",
     "text": [
      "C:\\Users\\AnnaZheleznova\\AppData\\Local\\Temp\\ipykernel_9892\\219882354.py:4: DtypeWarning: Columns (6) have mixed types. Specify dtype option on import or set low_memory=False.\n",
      "  for df in reader:\n"
     ]
    },
    {
     "name": "stdout",
     "output_type": "stream",
     "text": [
      "174, "
     ]
    },
    {
     "name": "stderr",
     "output_type": "stream",
     "text": [
      "C:\\Users\\AnnaZheleznova\\AppData\\Local\\Temp\\ipykernel_9892\\219882354.py:4: DtypeWarning: Columns (6) have mixed types. Specify dtype option on import or set low_memory=False.\n",
      "  for df in reader:\n"
     ]
    },
    {
     "name": "stdout",
     "output_type": "stream",
     "text": [
      "175, 176, 177, "
     ]
    },
    {
     "name": "stderr",
     "output_type": "stream",
     "text": [
      "C:\\Users\\AnnaZheleznova\\AppData\\Local\\Temp\\ipykernel_9892\\219882354.py:4: DtypeWarning: Columns (6) have mixed types. Specify dtype option on import or set low_memory=False.\n",
      "  for df in reader:\n"
     ]
    },
    {
     "name": "stdout",
     "output_type": "stream",
     "text": [
      "178, 179, "
     ]
    },
    {
     "name": "stderr",
     "output_type": "stream",
     "text": [
      "C:\\Users\\AnnaZheleznova\\AppData\\Local\\Temp\\ipykernel_9892\\219882354.py:4: DtypeWarning: Columns (6) have mixed types. Specify dtype option on import or set low_memory=False.\n",
      "  for df in reader:\n"
     ]
    },
    {
     "name": "stdout",
     "output_type": "stream",
     "text": [
      "180, "
     ]
    },
    {
     "name": "stderr",
     "output_type": "stream",
     "text": [
      "C:\\Users\\AnnaZheleznova\\AppData\\Local\\Temp\\ipykernel_9892\\219882354.py:4: DtypeWarning: Columns (6) have mixed types. Specify dtype option on import or set low_memory=False.\n",
      "  for df in reader:\n"
     ]
    },
    {
     "name": "stdout",
     "output_type": "stream",
     "text": [
      "181, "
     ]
    },
    {
     "name": "stderr",
     "output_type": "stream",
     "text": [
      "C:\\Users\\AnnaZheleznova\\AppData\\Local\\Temp\\ipykernel_9892\\219882354.py:4: DtypeWarning: Columns (6) have mixed types. Specify dtype option on import or set low_memory=False.\n",
      "  for df in reader:\n"
     ]
    },
    {
     "name": "stdout",
     "output_type": "stream",
     "text": [
      "182, 183, "
     ]
    },
    {
     "name": "stderr",
     "output_type": "stream",
     "text": [
      "C:\\Users\\AnnaZheleznova\\AppData\\Local\\Temp\\ipykernel_9892\\219882354.py:4: DtypeWarning: Columns (6) have mixed types. Specify dtype option on import or set low_memory=False.\n",
      "  for df in reader:\n"
     ]
    },
    {
     "name": "stdout",
     "output_type": "stream",
     "text": [
      "184, "
     ]
    },
    {
     "name": "stderr",
     "output_type": "stream",
     "text": [
      "C:\\Users\\AnnaZheleznova\\AppData\\Local\\Temp\\ipykernel_9892\\219882354.py:4: DtypeWarning: Columns (6) have mixed types. Specify dtype option on import or set low_memory=False.\n",
      "  for df in reader:\n"
     ]
    },
    {
     "name": "stdout",
     "output_type": "stream",
     "text": [
      "185, 186, "
     ]
    },
    {
     "name": "stderr",
     "output_type": "stream",
     "text": [
      "C:\\Users\\AnnaZheleznova\\AppData\\Local\\Temp\\ipykernel_9892\\219882354.py:4: DtypeWarning: Columns (6) have mixed types. Specify dtype option on import or set low_memory=False.\n",
      "  for df in reader:\n"
     ]
    },
    {
     "name": "stdout",
     "output_type": "stream",
     "text": [
      "187, "
     ]
    },
    {
     "name": "stderr",
     "output_type": "stream",
     "text": [
      "C:\\Users\\AnnaZheleznova\\AppData\\Local\\Temp\\ipykernel_9892\\219882354.py:4: DtypeWarning: Columns (6) have mixed types. Specify dtype option on import or set low_memory=False.\n",
      "  for df in reader:\n"
     ]
    },
    {
     "name": "stdout",
     "output_type": "stream",
     "text": [
      "188, "
     ]
    },
    {
     "name": "stderr",
     "output_type": "stream",
     "text": [
      "C:\\Users\\AnnaZheleznova\\AppData\\Local\\Temp\\ipykernel_9892\\219882354.py:4: DtypeWarning: Columns (6) have mixed types. Specify dtype option on import or set low_memory=False.\n",
      "  for df in reader:\n"
     ]
    },
    {
     "name": "stdout",
     "output_type": "stream",
     "text": [
      "189, "
     ]
    },
    {
     "name": "stderr",
     "output_type": "stream",
     "text": [
      "C:\\Users\\AnnaZheleznova\\AppData\\Local\\Temp\\ipykernel_9892\\219882354.py:4: DtypeWarning: Columns (6) have mixed types. Specify dtype option on import or set low_memory=False.\n",
      "  for df in reader:\n"
     ]
    },
    {
     "name": "stdout",
     "output_type": "stream",
     "text": [
      "190, "
     ]
    },
    {
     "name": "stderr",
     "output_type": "stream",
     "text": [
      "C:\\Users\\AnnaZheleznova\\AppData\\Local\\Temp\\ipykernel_9892\\219882354.py:4: DtypeWarning: Columns (6) have mixed types. Specify dtype option on import or set low_memory=False.\n",
      "  for df in reader:\n"
     ]
    },
    {
     "name": "stdout",
     "output_type": "stream",
     "text": [
      "191, 192, 193, "
     ]
    },
    {
     "name": "stderr",
     "output_type": "stream",
     "text": [
      "C:\\Users\\AnnaZheleznova\\AppData\\Local\\Temp\\ipykernel_9892\\219882354.py:4: DtypeWarning: Columns (6) have mixed types. Specify dtype option on import or set low_memory=False.\n",
      "  for df in reader:\n"
     ]
    },
    {
     "name": "stdout",
     "output_type": "stream",
     "text": [
      "194, "
     ]
    },
    {
     "name": "stderr",
     "output_type": "stream",
     "text": [
      "C:\\Users\\AnnaZheleznova\\AppData\\Local\\Temp\\ipykernel_9892\\219882354.py:4: DtypeWarning: Columns (6) have mixed types. Specify dtype option on import or set low_memory=False.\n",
      "  for df in reader:\n"
     ]
    },
    {
     "name": "stdout",
     "output_type": "stream",
     "text": [
      "195, "
     ]
    },
    {
     "name": "stderr",
     "output_type": "stream",
     "text": [
      "C:\\Users\\AnnaZheleznova\\AppData\\Local\\Temp\\ipykernel_9892\\219882354.py:4: DtypeWarning: Columns (6) have mixed types. Specify dtype option on import or set low_memory=False.\n",
      "  for df in reader:\n"
     ]
    },
    {
     "name": "stdout",
     "output_type": "stream",
     "text": [
      "196, "
     ]
    },
    {
     "name": "stderr",
     "output_type": "stream",
     "text": [
      "C:\\Users\\AnnaZheleznova\\AppData\\Local\\Temp\\ipykernel_9892\\219882354.py:4: DtypeWarning: Columns (6) have mixed types. Specify dtype option on import or set low_memory=False.\n",
      "  for df in reader:\n"
     ]
    },
    {
     "name": "stdout",
     "output_type": "stream",
     "text": [
      "197, "
     ]
    },
    {
     "name": "stderr",
     "output_type": "stream",
     "text": [
      "C:\\Users\\AnnaZheleznova\\AppData\\Local\\Temp\\ipykernel_9892\\219882354.py:4: DtypeWarning: Columns (6) have mixed types. Specify dtype option on import or set low_memory=False.\n",
      "  for df in reader:\n"
     ]
    },
    {
     "name": "stdout",
     "output_type": "stream",
     "text": [
      "198, 199, "
     ]
    },
    {
     "name": "stderr",
     "output_type": "stream",
     "text": [
      "C:\\Users\\AnnaZheleznova\\AppData\\Local\\Temp\\ipykernel_9892\\219882354.py:4: DtypeWarning: Columns (6) have mixed types. Specify dtype option on import or set low_memory=False.\n",
      "  for df in reader:\n"
     ]
    },
    {
     "name": "stdout",
     "output_type": "stream",
     "text": [
      "200, 201, 202, 203, "
     ]
    },
    {
     "name": "stderr",
     "output_type": "stream",
     "text": [
      "C:\\Users\\AnnaZheleznova\\AppData\\Local\\Temp\\ipykernel_9892\\219882354.py:4: DtypeWarning: Columns (6) have mixed types. Specify dtype option on import or set low_memory=False.\n",
      "  for df in reader:\n"
     ]
    },
    {
     "name": "stdout",
     "output_type": "stream",
     "text": [
      "204, 205, 206, "
     ]
    },
    {
     "name": "stderr",
     "output_type": "stream",
     "text": [
      "C:\\Users\\AnnaZheleznova\\AppData\\Local\\Temp\\ipykernel_9892\\219882354.py:4: DtypeWarning: Columns (6) have mixed types. Specify dtype option on import or set low_memory=False.\n",
      "  for df in reader:\n"
     ]
    },
    {
     "name": "stdout",
     "output_type": "stream",
     "text": [
      "207, "
     ]
    },
    {
     "name": "stderr",
     "output_type": "stream",
     "text": [
      "C:\\Users\\AnnaZheleznova\\AppData\\Local\\Temp\\ipykernel_9892\\219882354.py:4: DtypeWarning: Columns (6) have mixed types. Specify dtype option on import or set low_memory=False.\n",
      "  for df in reader:\n"
     ]
    },
    {
     "name": "stdout",
     "output_type": "stream",
     "text": [
      "208, 209, "
     ]
    },
    {
     "name": "stderr",
     "output_type": "stream",
     "text": [
      "C:\\Users\\AnnaZheleznova\\AppData\\Local\\Temp\\ipykernel_9892\\219882354.py:4: DtypeWarning: Columns (6) have mixed types. Specify dtype option on import or set low_memory=False.\n",
      "  for df in reader:\n"
     ]
    },
    {
     "name": "stdout",
     "output_type": "stream",
     "text": [
      "210, "
     ]
    },
    {
     "name": "stderr",
     "output_type": "stream",
     "text": [
      "C:\\Users\\AnnaZheleznova\\AppData\\Local\\Temp\\ipykernel_9892\\219882354.py:4: DtypeWarning: Columns (6) have mixed types. Specify dtype option on import or set low_memory=False.\n",
      "  for df in reader:\n"
     ]
    },
    {
     "name": "stdout",
     "output_type": "stream",
     "text": [
      "211, "
     ]
    },
    {
     "name": "stderr",
     "output_type": "stream",
     "text": [
      "C:\\Users\\AnnaZheleznova\\AppData\\Local\\Temp\\ipykernel_9892\\219882354.py:4: DtypeWarning: Columns (6) have mixed types. Specify dtype option on import or set low_memory=False.\n",
      "  for df in reader:\n"
     ]
    },
    {
     "name": "stdout",
     "output_type": "stream",
     "text": [
      "212, "
     ]
    },
    {
     "name": "stderr",
     "output_type": "stream",
     "text": [
      "C:\\Users\\AnnaZheleznova\\AppData\\Local\\Temp\\ipykernel_9892\\219882354.py:4: DtypeWarning: Columns (6) have mixed types. Specify dtype option on import or set low_memory=False.\n",
      "  for df in reader:\n"
     ]
    },
    {
     "name": "stdout",
     "output_type": "stream",
     "text": [
      "213, "
     ]
    },
    {
     "name": "stderr",
     "output_type": "stream",
     "text": [
      "C:\\Users\\AnnaZheleznova\\AppData\\Local\\Temp\\ipykernel_9892\\219882354.py:4: DtypeWarning: Columns (6) have mixed types. Specify dtype option on import or set low_memory=False.\n",
      "  for df in reader:\n"
     ]
    },
    {
     "name": "stdout",
     "output_type": "stream",
     "text": [
      "214, "
     ]
    },
    {
     "name": "stderr",
     "output_type": "stream",
     "text": [
      "C:\\Users\\AnnaZheleznova\\AppData\\Local\\Temp\\ipykernel_9892\\219882354.py:4: DtypeWarning: Columns (6) have mixed types. Specify dtype option on import or set low_memory=False.\n",
      "  for df in reader:\n"
     ]
    },
    {
     "name": "stdout",
     "output_type": "stream",
     "text": [
      "215, "
     ]
    },
    {
     "name": "stderr",
     "output_type": "stream",
     "text": [
      "C:\\Users\\AnnaZheleznova\\AppData\\Local\\Temp\\ipykernel_9892\\219882354.py:4: DtypeWarning: Columns (6,21) have mixed types. Specify dtype option on import or set low_memory=False.\n",
      "  for df in reader:\n"
     ]
    },
    {
     "name": "stdout",
     "output_type": "stream",
     "text": [
      "216, 217, "
     ]
    },
    {
     "name": "stderr",
     "output_type": "stream",
     "text": [
      "C:\\Users\\AnnaZheleznova\\AppData\\Local\\Temp\\ipykernel_9892\\219882354.py:4: DtypeWarning: Columns (6) have mixed types. Specify dtype option on import or set low_memory=False.\n",
      "  for df in reader:\n"
     ]
    },
    {
     "name": "stdout",
     "output_type": "stream",
     "text": [
      "218, "
     ]
    },
    {
     "name": "stderr",
     "output_type": "stream",
     "text": [
      "C:\\Users\\AnnaZheleznova\\AppData\\Local\\Temp\\ipykernel_9892\\219882354.py:4: DtypeWarning: Columns (6) have mixed types. Specify dtype option on import or set low_memory=False.\n",
      "  for df in reader:\n"
     ]
    },
    {
     "name": "stdout",
     "output_type": "stream",
     "text": [
      "219, "
     ]
    },
    {
     "name": "stderr",
     "output_type": "stream",
     "text": [
      "C:\\Users\\AnnaZheleznova\\AppData\\Local\\Temp\\ipykernel_9892\\219882354.py:4: DtypeWarning: Columns (6) have mixed types. Specify dtype option on import or set low_memory=False.\n",
      "  for df in reader:\n"
     ]
    },
    {
     "name": "stdout",
     "output_type": "stream",
     "text": [
      "220, "
     ]
    },
    {
     "name": "stderr",
     "output_type": "stream",
     "text": [
      "C:\\Users\\AnnaZheleznova\\AppData\\Local\\Temp\\ipykernel_9892\\219882354.py:4: DtypeWarning: Columns (6) have mixed types. Specify dtype option on import or set low_memory=False.\n",
      "  for df in reader:\n"
     ]
    },
    {
     "name": "stdout",
     "output_type": "stream",
     "text": [
      "221, "
     ]
    },
    {
     "name": "stderr",
     "output_type": "stream",
     "text": [
      "C:\\Users\\AnnaZheleznova\\AppData\\Local\\Temp\\ipykernel_9892\\219882354.py:4: DtypeWarning: Columns (6) have mixed types. Specify dtype option on import or set low_memory=False.\n",
      "  for df in reader:\n"
     ]
    },
    {
     "name": "stdout",
     "output_type": "stream",
     "text": [
      "222, "
     ]
    },
    {
     "name": "stderr",
     "output_type": "stream",
     "text": [
      "C:\\Users\\AnnaZheleznova\\AppData\\Local\\Temp\\ipykernel_9892\\219882354.py:4: DtypeWarning: Columns (6) have mixed types. Specify dtype option on import or set low_memory=False.\n",
      "  for df in reader:\n"
     ]
    },
    {
     "name": "stdout",
     "output_type": "stream",
     "text": [
      "223, "
     ]
    },
    {
     "name": "stderr",
     "output_type": "stream",
     "text": [
      "C:\\Users\\AnnaZheleznova\\AppData\\Local\\Temp\\ipykernel_9892\\219882354.py:4: DtypeWarning: Columns (6) have mixed types. Specify dtype option on import or set low_memory=False.\n",
      "  for df in reader:\n"
     ]
    },
    {
     "name": "stdout",
     "output_type": "stream",
     "text": [
      "224, "
     ]
    },
    {
     "name": "stderr",
     "output_type": "stream",
     "text": [
      "C:\\Users\\AnnaZheleznova\\AppData\\Local\\Temp\\ipykernel_9892\\219882354.py:4: DtypeWarning: Columns (6) have mixed types. Specify dtype option on import or set low_memory=False.\n",
      "  for df in reader:\n"
     ]
    },
    {
     "name": "stdout",
     "output_type": "stream",
     "text": [
      "225, "
     ]
    },
    {
     "name": "stderr",
     "output_type": "stream",
     "text": [
      "C:\\Users\\AnnaZheleznova\\AppData\\Local\\Temp\\ipykernel_9892\\219882354.py:4: DtypeWarning: Columns (6) have mixed types. Specify dtype option on import or set low_memory=False.\n",
      "  for df in reader:\n"
     ]
    },
    {
     "name": "stdout",
     "output_type": "stream",
     "text": [
      "226, "
     ]
    },
    {
     "name": "stderr",
     "output_type": "stream",
     "text": [
      "C:\\Users\\AnnaZheleznova\\AppData\\Local\\Temp\\ipykernel_9892\\219882354.py:4: DtypeWarning: Columns (6) have mixed types. Specify dtype option on import or set low_memory=False.\n",
      "  for df in reader:\n"
     ]
    },
    {
     "name": "stdout",
     "output_type": "stream",
     "text": [
      "227, "
     ]
    },
    {
     "name": "stderr",
     "output_type": "stream",
     "text": [
      "C:\\Users\\AnnaZheleznova\\AppData\\Local\\Temp\\ipykernel_9892\\219882354.py:4: DtypeWarning: Columns (6,21) have mixed types. Specify dtype option on import or set low_memory=False.\n",
      "  for df in reader:\n"
     ]
    },
    {
     "name": "stdout",
     "output_type": "stream",
     "text": [
      "228, "
     ]
    },
    {
     "name": "stderr",
     "output_type": "stream",
     "text": [
      "C:\\Users\\AnnaZheleznova\\AppData\\Local\\Temp\\ipykernel_9892\\219882354.py:4: DtypeWarning: Columns (6) have mixed types. Specify dtype option on import or set low_memory=False.\n",
      "  for df in reader:\n"
     ]
    },
    {
     "name": "stdout",
     "output_type": "stream",
     "text": [
      "229, "
     ]
    },
    {
     "name": "stderr",
     "output_type": "stream",
     "text": [
      "C:\\Users\\AnnaZheleznova\\AppData\\Local\\Temp\\ipykernel_9892\\219882354.py:4: DtypeWarning: Columns (6) have mixed types. Specify dtype option on import or set low_memory=False.\n",
      "  for df in reader:\n"
     ]
    },
    {
     "name": "stdout",
     "output_type": "stream",
     "text": [
      "230, "
     ]
    },
    {
     "name": "stderr",
     "output_type": "stream",
     "text": [
      "C:\\Users\\AnnaZheleznova\\AppData\\Local\\Temp\\ipykernel_9892\\219882354.py:4: DtypeWarning: Columns (6) have mixed types. Specify dtype option on import or set low_memory=False.\n",
      "  for df in reader:\n"
     ]
    },
    {
     "name": "stdout",
     "output_type": "stream",
     "text": [
      "231, "
     ]
    },
    {
     "name": "stderr",
     "output_type": "stream",
     "text": [
      "C:\\Users\\AnnaZheleznova\\AppData\\Local\\Temp\\ipykernel_9892\\219882354.py:4: DtypeWarning: Columns (6) have mixed types. Specify dtype option on import or set low_memory=False.\n",
      "  for df in reader:\n"
     ]
    },
    {
     "name": "stdout",
     "output_type": "stream",
     "text": [
      "232, "
     ]
    },
    {
     "name": "stderr",
     "output_type": "stream",
     "text": [
      "C:\\Users\\AnnaZheleznova\\AppData\\Local\\Temp\\ipykernel_9892\\219882354.py:4: DtypeWarning: Columns (6) have mixed types. Specify dtype option on import or set low_memory=False.\n",
      "  for df in reader:\n"
     ]
    },
    {
     "name": "stdout",
     "output_type": "stream",
     "text": [
      "233, "
     ]
    },
    {
     "name": "stderr",
     "output_type": "stream",
     "text": [
      "C:\\Users\\AnnaZheleznova\\AppData\\Local\\Temp\\ipykernel_9892\\219882354.py:4: DtypeWarning: Columns (6) have mixed types. Specify dtype option on import or set low_memory=False.\n",
      "  for df in reader:\n"
     ]
    },
    {
     "name": "stdout",
     "output_type": "stream",
     "text": [
      "234, 235, "
     ]
    },
    {
     "name": "stderr",
     "output_type": "stream",
     "text": [
      "C:\\Users\\AnnaZheleznova\\AppData\\Local\\Temp\\ipykernel_9892\\219882354.py:4: DtypeWarning: Columns (6) have mixed types. Specify dtype option on import or set low_memory=False.\n",
      "  for df in reader:\n"
     ]
    },
    {
     "name": "stdout",
     "output_type": "stream",
     "text": [
      "236, "
     ]
    },
    {
     "name": "stderr",
     "output_type": "stream",
     "text": [
      "C:\\Users\\AnnaZheleznova\\AppData\\Local\\Temp\\ipykernel_9892\\219882354.py:4: DtypeWarning: Columns (6) have mixed types. Specify dtype option on import or set low_memory=False.\n",
      "  for df in reader:\n"
     ]
    },
    {
     "name": "stdout",
     "output_type": "stream",
     "text": [
      "237, "
     ]
    },
    {
     "name": "stderr",
     "output_type": "stream",
     "text": [
      "C:\\Users\\AnnaZheleznova\\AppData\\Local\\Temp\\ipykernel_9892\\219882354.py:4: DtypeWarning: Columns (6) have mixed types. Specify dtype option on import or set low_memory=False.\n",
      "  for df in reader:\n"
     ]
    },
    {
     "name": "stdout",
     "output_type": "stream",
     "text": [
      "238, "
     ]
    },
    {
     "name": "stderr",
     "output_type": "stream",
     "text": [
      "C:\\Users\\AnnaZheleznova\\AppData\\Local\\Temp\\ipykernel_9892\\219882354.py:4: DtypeWarning: Columns (6) have mixed types. Specify dtype option on import or set low_memory=False.\n",
      "  for df in reader:\n"
     ]
    },
    {
     "name": "stdout",
     "output_type": "stream",
     "text": [
      "239, "
     ]
    },
    {
     "name": "stderr",
     "output_type": "stream",
     "text": [
      "C:\\Users\\AnnaZheleznova\\AppData\\Local\\Temp\\ipykernel_9892\\219882354.py:4: DtypeWarning: Columns (6) have mixed types. Specify dtype option on import or set low_memory=False.\n",
      "  for df in reader:\n"
     ]
    },
    {
     "name": "stdout",
     "output_type": "stream",
     "text": [
      "240, "
     ]
    },
    {
     "name": "stderr",
     "output_type": "stream",
     "text": [
      "C:\\Users\\AnnaZheleznova\\AppData\\Local\\Temp\\ipykernel_9892\\219882354.py:4: DtypeWarning: Columns (6) have mixed types. Specify dtype option on import or set low_memory=False.\n",
      "  for df in reader:\n"
     ]
    },
    {
     "name": "stdout",
     "output_type": "stream",
     "text": [
      "241, "
     ]
    },
    {
     "name": "stderr",
     "output_type": "stream",
     "text": [
      "C:\\Users\\AnnaZheleznova\\AppData\\Local\\Temp\\ipykernel_9892\\219882354.py:4: DtypeWarning: Columns (6) have mixed types. Specify dtype option on import or set low_memory=False.\n",
      "  for df in reader:\n"
     ]
    },
    {
     "name": "stdout",
     "output_type": "stream",
     "text": [
      "242, 243, "
     ]
    },
    {
     "name": "stderr",
     "output_type": "stream",
     "text": [
      "C:\\Users\\AnnaZheleznova\\AppData\\Local\\Temp\\ipykernel_9892\\219882354.py:4: DtypeWarning: Columns (6) have mixed types. Specify dtype option on import or set low_memory=False.\n",
      "  for df in reader:\n"
     ]
    },
    {
     "name": "stdout",
     "output_type": "stream",
     "text": [
      "244, "
     ]
    },
    {
     "name": "stderr",
     "output_type": "stream",
     "text": [
      "C:\\Users\\AnnaZheleznova\\AppData\\Local\\Temp\\ipykernel_9892\\219882354.py:4: DtypeWarning: Columns (6) have mixed types. Specify dtype option on import or set low_memory=False.\n",
      "  for df in reader:\n"
     ]
    },
    {
     "name": "stdout",
     "output_type": "stream",
     "text": [
      "245, "
     ]
    },
    {
     "name": "stderr",
     "output_type": "stream",
     "text": [
      "C:\\Users\\AnnaZheleznova\\AppData\\Local\\Temp\\ipykernel_9892\\219882354.py:4: DtypeWarning: Columns (6) have mixed types. Specify dtype option on import or set low_memory=False.\n",
      "  for df in reader:\n"
     ]
    },
    {
     "name": "stdout",
     "output_type": "stream",
     "text": [
      "246, "
     ]
    },
    {
     "name": "stderr",
     "output_type": "stream",
     "text": [
      "C:\\Users\\AnnaZheleznova\\AppData\\Local\\Temp\\ipykernel_9892\\219882354.py:4: DtypeWarning: Columns (6,21) have mixed types. Specify dtype option on import or set low_memory=False.\n",
      "  for df in reader:\n"
     ]
    },
    {
     "name": "stdout",
     "output_type": "stream",
     "text": [
      "247, "
     ]
    },
    {
     "name": "stderr",
     "output_type": "stream",
     "text": [
      "C:\\Users\\AnnaZheleznova\\AppData\\Local\\Temp\\ipykernel_9892\\219882354.py:4: DtypeWarning: Columns (6) have mixed types. Specify dtype option on import or set low_memory=False.\n",
      "  for df in reader:\n"
     ]
    },
    {
     "name": "stdout",
     "output_type": "stream",
     "text": [
      "248, 249, 250, 251, "
     ]
    },
    {
     "name": "stderr",
     "output_type": "stream",
     "text": [
      "C:\\Users\\AnnaZheleznova\\AppData\\Local\\Temp\\ipykernel_9892\\219882354.py:4: DtypeWarning: Columns (6) have mixed types. Specify dtype option on import or set low_memory=False.\n",
      "  for df in reader:\n"
     ]
    },
    {
     "name": "stdout",
     "output_type": "stream",
     "text": [
      "252, "
     ]
    },
    {
     "name": "stderr",
     "output_type": "stream",
     "text": [
      "C:\\Users\\AnnaZheleznova\\AppData\\Local\\Temp\\ipykernel_9892\\219882354.py:4: DtypeWarning: Columns (6) have mixed types. Specify dtype option on import or set low_memory=False.\n",
      "  for df in reader:\n"
     ]
    },
    {
     "name": "stdout",
     "output_type": "stream",
     "text": [
      "253, 254, 255, "
     ]
    },
    {
     "name": "stderr",
     "output_type": "stream",
     "text": [
      "C:\\Users\\AnnaZheleznova\\AppData\\Local\\Temp\\ipykernel_9892\\219882354.py:4: DtypeWarning: Columns (6) have mixed types. Specify dtype option on import or set low_memory=False.\n",
      "  for df in reader:\n"
     ]
    },
    {
     "name": "stdout",
     "output_type": "stream",
     "text": [
      "256, 257, "
     ]
    },
    {
     "name": "stderr",
     "output_type": "stream",
     "text": [
      "C:\\Users\\AnnaZheleznova\\AppData\\Local\\Temp\\ipykernel_9892\\219882354.py:4: DtypeWarning: Columns (6) have mixed types. Specify dtype option on import or set low_memory=False.\n",
      "  for df in reader:\n"
     ]
    },
    {
     "name": "stdout",
     "output_type": "stream",
     "text": [
      "258, "
     ]
    },
    {
     "name": "stderr",
     "output_type": "stream",
     "text": [
      "C:\\Users\\AnnaZheleznova\\AppData\\Local\\Temp\\ipykernel_9892\\219882354.py:4: DtypeWarning: Columns (6) have mixed types. Specify dtype option on import or set low_memory=False.\n",
      "  for df in reader:\n"
     ]
    },
    {
     "name": "stdout",
     "output_type": "stream",
     "text": [
      "259, "
     ]
    },
    {
     "name": "stderr",
     "output_type": "stream",
     "text": [
      "C:\\Users\\AnnaZheleznova\\AppData\\Local\\Temp\\ipykernel_9892\\219882354.py:4: DtypeWarning: Columns (6) have mixed types. Specify dtype option on import or set low_memory=False.\n",
      "  for df in reader:\n"
     ]
    },
    {
     "name": "stdout",
     "output_type": "stream",
     "text": [
      "260, "
     ]
    },
    {
     "name": "stderr",
     "output_type": "stream",
     "text": [
      "C:\\Users\\AnnaZheleznova\\AppData\\Local\\Temp\\ipykernel_9892\\219882354.py:4: DtypeWarning: Columns (6,21) have mixed types. Specify dtype option on import or set low_memory=False.\n",
      "  for df in reader:\n"
     ]
    },
    {
     "name": "stdout",
     "output_type": "stream",
     "text": [
      "261, "
     ]
    },
    {
     "name": "stderr",
     "output_type": "stream",
     "text": [
      "C:\\Users\\AnnaZheleznova\\AppData\\Local\\Temp\\ipykernel_9892\\219882354.py:4: DtypeWarning: Columns (6) have mixed types. Specify dtype option on import or set low_memory=False.\n",
      "  for df in reader:\n"
     ]
    },
    {
     "name": "stdout",
     "output_type": "stream",
     "text": [
      "262, "
     ]
    },
    {
     "name": "stderr",
     "output_type": "stream",
     "text": [
      "C:\\Users\\AnnaZheleznova\\AppData\\Local\\Temp\\ipykernel_9892\\219882354.py:4: DtypeWarning: Columns (6) have mixed types. Specify dtype option on import or set low_memory=False.\n",
      "  for df in reader:\n"
     ]
    },
    {
     "name": "stdout",
     "output_type": "stream",
     "text": [
      "263, "
     ]
    },
    {
     "name": "stderr",
     "output_type": "stream",
     "text": [
      "C:\\Users\\AnnaZheleznova\\AppData\\Local\\Temp\\ipykernel_9892\\219882354.py:4: DtypeWarning: Columns (6) have mixed types. Specify dtype option on import or set low_memory=False.\n",
      "  for df in reader:\n"
     ]
    },
    {
     "name": "stdout",
     "output_type": "stream",
     "text": [
      "264, "
     ]
    },
    {
     "name": "stderr",
     "output_type": "stream",
     "text": [
      "C:\\Users\\AnnaZheleznova\\AppData\\Local\\Temp\\ipykernel_9892\\219882354.py:4: DtypeWarning: Columns (6) have mixed types. Specify dtype option on import or set low_memory=False.\n",
      "  for df in reader:\n"
     ]
    },
    {
     "name": "stdout",
     "output_type": "stream",
     "text": [
      "265, 266, "
     ]
    },
    {
     "name": "stderr",
     "output_type": "stream",
     "text": [
      "C:\\Users\\AnnaZheleznova\\AppData\\Local\\Temp\\ipykernel_9892\\219882354.py:4: DtypeWarning: Columns (3) have mixed types. Specify dtype option on import or set low_memory=False.\n",
      "  for df in reader:\n"
     ]
    },
    {
     "name": "stdout",
     "output_type": "stream",
     "text": [
      "267, "
     ]
    },
    {
     "name": "stderr",
     "output_type": "stream",
     "text": [
      "C:\\Users\\AnnaZheleznova\\AppData\\Local\\Temp\\ipykernel_9892\\219882354.py:4: DtypeWarning: Columns (3) have mixed types. Specify dtype option on import or set low_memory=False.\n",
      "  for df in reader:\n"
     ]
    },
    {
     "name": "stdout",
     "output_type": "stream",
     "text": [
      "268, "
     ]
    },
    {
     "name": "stderr",
     "output_type": "stream",
     "text": [
      "C:\\Users\\AnnaZheleznova\\AppData\\Local\\Temp\\ipykernel_9892\\219882354.py:4: DtypeWarning: Columns (3) have mixed types. Specify dtype option on import or set low_memory=False.\n",
      "  for df in reader:\n"
     ]
    },
    {
     "name": "stdout",
     "output_type": "stream",
     "text": [
      "269, "
     ]
    },
    {
     "name": "stderr",
     "output_type": "stream",
     "text": [
      "C:\\Users\\AnnaZheleznova\\AppData\\Local\\Temp\\ipykernel_9892\\219882354.py:4: DtypeWarning: Columns (3,6) have mixed types. Specify dtype option on import or set low_memory=False.\n",
      "  for df in reader:\n"
     ]
    },
    {
     "name": "stdout",
     "output_type": "stream",
     "text": [
      "270, "
     ]
    },
    {
     "name": "stderr",
     "output_type": "stream",
     "text": [
      "C:\\Users\\AnnaZheleznova\\AppData\\Local\\Temp\\ipykernel_9892\\219882354.py:4: DtypeWarning: Columns (3,6) have mixed types. Specify dtype option on import or set low_memory=False.\n",
      "  for df in reader:\n"
     ]
    },
    {
     "name": "stdout",
     "output_type": "stream",
     "text": [
      "271, "
     ]
    },
    {
     "name": "stderr",
     "output_type": "stream",
     "text": [
      "C:\\Users\\AnnaZheleznova\\AppData\\Local\\Temp\\ipykernel_9892\\219882354.py:4: DtypeWarning: Columns (3) have mixed types. Specify dtype option on import or set low_memory=False.\n",
      "  for df in reader:\n"
     ]
    },
    {
     "name": "stdout",
     "output_type": "stream",
     "text": [
      "272, "
     ]
    },
    {
     "name": "stderr",
     "output_type": "stream",
     "text": [
      "C:\\Users\\AnnaZheleznova\\AppData\\Local\\Temp\\ipykernel_9892\\219882354.py:4: DtypeWarning: Columns (6) have mixed types. Specify dtype option on import or set low_memory=False.\n",
      "  for df in reader:\n"
     ]
    },
    {
     "name": "stdout",
     "output_type": "stream",
     "text": [
      "273, "
     ]
    },
    {
     "name": "stderr",
     "output_type": "stream",
     "text": [
      "C:\\Users\\AnnaZheleznova\\AppData\\Local\\Temp\\ipykernel_9892\\219882354.py:4: DtypeWarning: Columns (3,6) have mixed types. Specify dtype option on import or set low_memory=False.\n",
      "  for df in reader:\n"
     ]
    },
    {
     "name": "stdout",
     "output_type": "stream",
     "text": [
      "274, 275, 276, "
     ]
    },
    {
     "name": "stderr",
     "output_type": "stream",
     "text": [
      "C:\\Users\\AnnaZheleznova\\AppData\\Local\\Temp\\ipykernel_9892\\219882354.py:4: DtypeWarning: Columns (3) have mixed types. Specify dtype option on import or set low_memory=False.\n",
      "  for df in reader:\n"
     ]
    },
    {
     "name": "stdout",
     "output_type": "stream",
     "text": [
      "277, "
     ]
    },
    {
     "name": "stderr",
     "output_type": "stream",
     "text": [
      "C:\\Users\\AnnaZheleznova\\AppData\\Local\\Temp\\ipykernel_9892\\219882354.py:4: DtypeWarning: Columns (3) have mixed types. Specify dtype option on import or set low_memory=False.\n",
      "  for df in reader:\n"
     ]
    },
    {
     "name": "stdout",
     "output_type": "stream",
     "text": [
      "278, "
     ]
    },
    {
     "name": "stderr",
     "output_type": "stream",
     "text": [
      "C:\\Users\\AnnaZheleznova\\AppData\\Local\\Temp\\ipykernel_9892\\219882354.py:4: DtypeWarning: Columns (3) have mixed types. Specify dtype option on import or set low_memory=False.\n",
      "  for df in reader:\n"
     ]
    },
    {
     "name": "stdout",
     "output_type": "stream",
     "text": [
      "279, "
     ]
    },
    {
     "name": "stderr",
     "output_type": "stream",
     "text": [
      "C:\\Users\\AnnaZheleznova\\AppData\\Local\\Temp\\ipykernel_9892\\219882354.py:4: DtypeWarning: Columns (3) have mixed types. Specify dtype option on import or set low_memory=False.\n",
      "  for df in reader:\n"
     ]
    },
    {
     "name": "stdout",
     "output_type": "stream",
     "text": [
      "280, "
     ]
    },
    {
     "name": "stderr",
     "output_type": "stream",
     "text": [
      "C:\\Users\\AnnaZheleznova\\AppData\\Local\\Temp\\ipykernel_9892\\219882354.py:4: DtypeWarning: Columns (3) have mixed types. Specify dtype option on import or set low_memory=False.\n",
      "  for df in reader:\n"
     ]
    },
    {
     "name": "stdout",
     "output_type": "stream",
     "text": [
      "281, "
     ]
    },
    {
     "name": "stderr",
     "output_type": "stream",
     "text": [
      "C:\\Users\\AnnaZheleznova\\AppData\\Local\\Temp\\ipykernel_9892\\219882354.py:4: DtypeWarning: Columns (3,6) have mixed types. Specify dtype option on import or set low_memory=False.\n",
      "  for df in reader:\n"
     ]
    },
    {
     "name": "stdout",
     "output_type": "stream",
     "text": [
      "282, "
     ]
    },
    {
     "name": "stderr",
     "output_type": "stream",
     "text": [
      "C:\\Users\\AnnaZheleznova\\AppData\\Local\\Temp\\ipykernel_9892\\219882354.py:4: DtypeWarning: Columns (3) have mixed types. Specify dtype option on import or set low_memory=False.\n",
      "  for df in reader:\n"
     ]
    },
    {
     "name": "stdout",
     "output_type": "stream",
     "text": [
      "283, "
     ]
    },
    {
     "name": "stderr",
     "output_type": "stream",
     "text": [
      "C:\\Users\\AnnaZheleznova\\AppData\\Local\\Temp\\ipykernel_9892\\219882354.py:4: DtypeWarning: Columns (3,6) have mixed types. Specify dtype option on import or set low_memory=False.\n",
      "  for df in reader:\n"
     ]
    },
    {
     "name": "stdout",
     "output_type": "stream",
     "text": [
      "284, "
     ]
    },
    {
     "name": "stderr",
     "output_type": "stream",
     "text": [
      "C:\\Users\\AnnaZheleznova\\AppData\\Local\\Temp\\ipykernel_9892\\219882354.py:4: DtypeWarning: Columns (3,6) have mixed types. Specify dtype option on import or set low_memory=False.\n",
      "  for df in reader:\n"
     ]
    },
    {
     "name": "stdout",
     "output_type": "stream",
     "text": [
      "285, "
     ]
    },
    {
     "name": "stderr",
     "output_type": "stream",
     "text": [
      "C:\\Users\\AnnaZheleznova\\AppData\\Local\\Temp\\ipykernel_9892\\219882354.py:4: DtypeWarning: Columns (3,6) have mixed types. Specify dtype option on import or set low_memory=False.\n",
      "  for df in reader:\n"
     ]
    },
    {
     "name": "stdout",
     "output_type": "stream",
     "text": [
      "286, "
     ]
    },
    {
     "name": "stderr",
     "output_type": "stream",
     "text": [
      "C:\\Users\\AnnaZheleznova\\AppData\\Local\\Temp\\ipykernel_9892\\219882354.py:4: DtypeWarning: Columns (3,6) have mixed types. Specify dtype option on import or set low_memory=False.\n",
      "  for df in reader:\n"
     ]
    },
    {
     "name": "stdout",
     "output_type": "stream",
     "text": [
      "287, "
     ]
    },
    {
     "name": "stderr",
     "output_type": "stream",
     "text": [
      "C:\\Users\\AnnaZheleznova\\AppData\\Local\\Temp\\ipykernel_9892\\219882354.py:4: DtypeWarning: Columns (3) have mixed types. Specify dtype option on import or set low_memory=False.\n",
      "  for df in reader:\n"
     ]
    },
    {
     "name": "stdout",
     "output_type": "stream",
     "text": [
      "288, "
     ]
    },
    {
     "name": "stderr",
     "output_type": "stream",
     "text": [
      "C:\\Users\\AnnaZheleznova\\AppData\\Local\\Temp\\ipykernel_9892\\219882354.py:4: DtypeWarning: Columns (3) have mixed types. Specify dtype option on import or set low_memory=False.\n",
      "  for df in reader:\n"
     ]
    },
    {
     "name": "stdout",
     "output_type": "stream",
     "text": [
      "289, "
     ]
    },
    {
     "name": "stderr",
     "output_type": "stream",
     "text": [
      "C:\\Users\\AnnaZheleznova\\AppData\\Local\\Temp\\ipykernel_9892\\219882354.py:4: DtypeWarning: Columns (3) have mixed types. Specify dtype option on import or set low_memory=False.\n",
      "  for df in reader:\n"
     ]
    },
    {
     "name": "stdout",
     "output_type": "stream",
     "text": [
      "290, 291, "
     ]
    },
    {
     "name": "stderr",
     "output_type": "stream",
     "text": [
      "C:\\Users\\AnnaZheleznova\\AppData\\Local\\Temp\\ipykernel_9892\\219882354.py:4: DtypeWarning: Columns (3,6,26) have mixed types. Specify dtype option on import or set low_memory=False.\n",
      "  for df in reader:\n"
     ]
    },
    {
     "name": "stdout",
     "output_type": "stream",
     "text": [
      "292, "
     ]
    }
   ],
   "source": [
    "chunksize = 10 ** 5\n",
    "chunk_id = 0\n",
    "with pd.read_csv(\"fz.zip\", chunksize=chunksize, on_bad_lines=\"skip\") as reader:\n",
    "    for df in reader:\n",
    "        print(chunk_id, end=\", \")\n",
    "        if chunk_id >= 0:\n",
    "            df.columns = COLUMNS\n",
    "\n",
    "            df[\"y\"] = df[\"y\"].astype(str)\n",
    "            df = df[df[\"y\"] != \"<НЕ ОПРЕДЕЛЕНО>\"]\n",
    "            df = df[df[\"y\"] != \"<НЕ РАСПРЕДЕЛЕНО>\"]\n",
    "            df = df[df[\"y\"].str.len() == 4]\n",
    "\n",
    "\n",
    "            df = df[[\"x4\", \"x7\", \"x8\", \"x11\", \"x12\", \"x14\", \"x15\", \"y_description\", \"y\"]]\n",
    "\n",
    "            for y in df[\"y\"].unique():\n",
    "                if len(y) < 20:\n",
    "                    df_crop = df[df[\"y\"] == y]\n",
    "                    df_crop.to_csv(os.path.join(PATH, f\"{y}{SEP}{chunk_id}.csv\"))\n",
    "                else:\n",
    "                    print()\n",
    "                    print(y)\n",
    "\n",
    "        chunk_id += 1"
   ]
  },
  {
   "cell_type": "code",
   "execution_count": 8,
   "id": "ce5f11e4-ecf1-40ae-a91c-44c898a7db31",
   "metadata": {},
   "outputs": [
    {
     "data": {
      "text/plain": [
       "293"
      ]
     },
     "execution_count": 8,
     "metadata": {},
     "output_type": "execute_result"
    }
   ],
   "source": [
    "chunk_id"
   ]
  },
  {
   "cell_type": "code",
   "execution_count": 9,
   "id": "cba436ce-fb88-484d-be03-402f63a79edb",
   "metadata": {},
   "outputs": [
    {
     "data": {
      "text/plain": [
       "array(['35.3', '26.5', '26.2', '28.2', '22.1', '22.2', '20.2', '20.4',\n",
       "       '21.2', '80.1', '49.3', '32.5', '16.2', '17.2', '20.5', '32.9',\n",
       "       '26.6', '68.1', '42.1', '19.2', '86.1', '85.1', '71.1', '43.9',\n",
       "       '36.0', '37.0', '17.1', '53.2', '35.2', '58.1', '56.2', '43.2',\n",
       "       '42.2', '35.1', '58.2', '01.1', '10.5', '10.6', '10.1', '01.4',\n",
       "       '74.9', '61.2', '27.5', '26.3', '41.2', '86.9', '86.2', '49.4',\n",
       "       '27.4', '23.6', '23.5', '20.3', '61.1', '27.3', '03.1', '28.9',\n",
       "       '08.1', '87.9', '10.3', '01.2', '10.8', '14.1', '10.7', '27.9',\n",
       "       '38.2', '81.1', '32.4', '62.0', '43.3', '53.1', '31.0', '47.7',\n",
       "       '05.1', '10.2', '38.1', '25.7', '25.9', '29.2', '32.3', '23.1',\n",
       "       '95.1', '13.9', '61.9', '42.9', '25.1', '10.9', '68.2', '28.3',\n",
       "       '13.2', '06.2', '45.2', '26.4', '33.1', '25.3', '68.3', '59.1',\n",
       "       '93.2', '71.2', '08.9', '15.2', '39.0', '55.9', '55.1', '29.1',\n",
       "       '78.3', '21.1', '13.1', '85.4', '65.1', '64.9', '41.1', '10.4',\n",
       "       '82.3', '29.3', '26.7', '52.1', '33.2', '27.2', '81.2', '63.9',\n",
       "       '63.1', '56.1', '96.0', '20.6', '05.2', '24.1', '80.2', '47.5',\n",
       "       '18.1', '13.3', '46.7', '24.2', '25.2', '20.1', '27.1', '81.3',\n",
       "       '85.2', '28.1', '02.1', '84.2', '75.0', '46.4', '46.1', '52.2',\n",
       "       '24.3', '43.1', '14.3', '72.2', '24.4', '85.3', '23.4', '16.1',\n",
       "       '90.0', '02.2', '32.1', '32.2', '55.2', '30.9', '26.8', '95.2',\n",
       "       '02.4', '60.2', '14.2', '15.1', '23.9', '49.2', '23.3', '24.5',\n",
       "       '28.4', '82.9', '93.1', '73.2', '77.1', '79.9', '79.1', '91.0',\n",
       "       '51.1', '30.3', '30.2', '66.2', '77.3', '30.1', '60.1', '01.3',\n",
       "       '64.1', '49.5', '73.1', '11.0', '23.7', '94.9', '45.4', '82.2',\n",
       "       '51.2', '77.2', '84.1', '72.1', '01.6', '26.1', '87.3', '88.9',\n",
       "       '0.00', '94.1', '82.1', '47.1', '69.2', '70.2', '74.3', '61.3',\n",
       "       '74.1', '47.6', '55.3', '38.3', '03.2', '47.4', '25.4', '74.2',\n",
       "       '49.1', '25.6', '45.3', '47.3', '69.1', '78.2', '66.1', '46.9'],\n",
       "      dtype=object)"
      ]
     },
     "execution_count": 9,
     "metadata": {},
     "output_type": "execute_result"
    }
   ],
   "source": [
    "df[\"y\"].unique()"
   ]
  },
  {
   "cell_type": "code",
   "execution_count": 13,
   "id": "691ec219-5de1-4310-94df-d711a8696026",
   "metadata": {},
   "outputs": [
    {
     "data": {
      "text/html": [
       "<div>\n",
       "<style scoped>\n",
       "    .dataframe tbody tr th:only-of-type {\n",
       "        vertical-align: middle;\n",
       "    }\n",
       "\n",
       "    .dataframe tbody tr th {\n",
       "        vertical-align: top;\n",
       "    }\n",
       "\n",
       "    .dataframe thead th {\n",
       "        text-align: right;\n",
       "    }\n",
       "</style>\n",
       "<table border=\"1\" class=\"dataframe\">\n",
       "  <thead>\n",
       "    <tr style=\"text-align: right;\">\n",
       "      <th></th>\n",
       "      <th>x4</th>\n",
       "      <th>x7</th>\n",
       "      <th>x8</th>\n",
       "      <th>x11</th>\n",
       "      <th>x12</th>\n",
       "      <th>x14</th>\n",
       "      <th>x15</th>\n",
       "      <th>y_description</th>\n",
       "      <th>y</th>\n",
       "    </tr>\n",
       "  </thead>\n",
       "  <tbody>\n",
       "    <tr>\n",
       "      <th>29200033</th>\n",
       "      <td>ООО \\ТСС\\\"\"</td>\n",
       "      <td>АДМИНИСТРАЦИЯ КОНАКОВСКОГО РАЙОНА ТВЕРСКОЙ ОБЛ...</td>\n",
       "      <td>Тверская область</td>\n",
       "      <td>Осуществление строительного контроля за выполн...</td>\n",
       "      <td>местный бюджет</td>\n",
       "      <td>929771.77</td>\n",
       "      <td>418397.27</td>\n",
       "      <td>71.1</td>\n",
       "      <td>71.1</td>\n",
       "    </tr>\n",
       "    <tr>\n",
       "      <th>29200059</th>\n",
       "      <td>ООО \\УМ - 2\\\"\"</td>\n",
       "      <td>АДМИНИСТРАЦИЯ ЗАТО ОЗЕРНЫЙ</td>\n",
       "      <td>Тверская область</td>\n",
       "      <td>Оказание услуг по осуществлению строительного ...</td>\n",
       "      <td>выполненного в форме холма со ступенями\\\"\"</td>\n",
       "      <td>\\N</td>\n",
       "      <td>86030.77</td>\n",
       "      <td>&lt;НЕ ОПРЕДЕЛЕНО&gt;</td>\n",
       "      <td>71.1</td>\n",
       "    </tr>\n",
       "    <tr>\n",
       "      <th>29200064</th>\n",
       "      <td>ООО \\ТСС\\\"\"</td>\n",
       "      <td>АДМИНИСТРАЦИЯ КОНАКОВСКОГО РАЙОНА ТВЕРСКОЙ ОБЛ...</td>\n",
       "      <td>Тверская область</td>\n",
       "      <td>Осуществление строительного контроля за выполн...</td>\n",
       "      <td>местный бюджет</td>\n",
       "      <td>685739.37</td>\n",
       "      <td>98569.50</td>\n",
       "      <td>71.1</td>\n",
       "      <td>71.1</td>\n",
       "    </tr>\n",
       "    <tr>\n",
       "      <th>29200282</th>\n",
       "      <td>ЛЮБЧИК АНАТОЛИЙ ВАСИЛЬЕВИЧ</td>\n",
       "      <td>ФГКУ \\СПЕЦИАЛЬНОЕ УПРАВЛЕНИЕ ФПС № 30 МЧС РОСС...</td>\n",
       "      <td>Удмуртская Республика</td>\n",
       "      <td>проведение кадастровых работ на объекте СПСЧ-12</td>\n",
       "      <td>федеральный бюджет</td>\n",
       "      <td>82333.33</td>\n",
       "      <td>72156.85</td>\n",
       "      <td>71.1</td>\n",
       "      <td>71.1</td>\n",
       "    </tr>\n",
       "    <tr>\n",
       "      <th>29200291</th>\n",
       "      <td>ООО \\АРХИТЕКТУРНОЕ БЮРО МАКСИМА ВОРОНИНА\\\"\"</td>\n",
       "      <td>МБУ СШ \\МЦ \\\"ДЕЛЬФИН\\\"\"</td>\n",
       "      <td>Удмуртская Республика</td>\n",
       "      <td>разработка эскизного проекта</td>\n",
       "      <td>\\N</td>\n",
       "      <td>1291666.67</td>\n",
       "      <td>684000.00</td>\n",
       "      <td>71.1</td>\n",
       "      <td>71.1</td>\n",
       "    </tr>\n",
       "    <tr>\n",
       "      <th>...</th>\n",
       "      <td>...</td>\n",
       "      <td>...</td>\n",
       "      <td>...</td>\n",
       "      <td>...</td>\n",
       "      <td>...</td>\n",
       "      <td>...</td>\n",
       "      <td>...</td>\n",
       "      <td>...</td>\n",
       "      <td>...</td>\n",
       "    </tr>\n",
       "    <tr>\n",
       "      <th>29265580</th>\n",
       "      <td>СОРОКИН ДМИТРИЙ ВИКТОРОВИЧ</td>\n",
       "      <td>АДМИНИСТРАЦИЯ ОРЕХОВО-ЗУЕВСКОГО ГОРОДСКОГО ОКРУГА</td>\n",
       "      <td>Московская область</td>\n",
       "      <td>Оказание услуг по гидрологическому обследовани...</td>\n",
       "      <td>местный бюджет</td>\n",
       "      <td>240000.00</td>\n",
       "      <td>238800.00</td>\n",
       "      <td>71.1</td>\n",
       "      <td>71.1</td>\n",
       "    </tr>\n",
       "    <tr>\n",
       "      <th>29265581</th>\n",
       "      <td>ООО \\ЧОП \\\"МЕГАПОЛИС-ОПТИМА\\\"\"</td>\n",
       "      <td>АДМИНИСТРАЦИЯ ОРЕХОВО-ЗУЕВСКОГО ГОРОДСКОГО ОКРУГА</td>\n",
       "      <td>Московская область</td>\n",
       "      <td>Выполнение работ по разработке проектно-сметно...</td>\n",
       "      <td>местный бюджет</td>\n",
       "      <td>54341.67</td>\n",
       "      <td>54069.96</td>\n",
       "      <td>71.1</td>\n",
       "      <td>71.1</td>\n",
       "    </tr>\n",
       "    <tr>\n",
       "      <th>29265630</th>\n",
       "      <td>ООО \\ИТС\\\"\"</td>\n",
       "      <td>СПБ ГКУ \\ДОДД\\\"\"</td>\n",
       "      <td>Город Санкт-Петербург город федерального значения</td>\n",
       "      <td>Разработка проектно-сметной документации по со...</td>\n",
       "      <td>бюджет субъекта Российской Федерации</td>\n",
       "      <td>35154931.84</td>\n",
       "      <td>35505890.24</td>\n",
       "      <td>71.1</td>\n",
       "      <td>71.1</td>\n",
       "    </tr>\n",
       "    <tr>\n",
       "      <th>29265631</th>\n",
       "      <td>ООО \\ИТС\\\"\"</td>\n",
       "      <td>СПБ ГКУ \\ДОДД\\\"\"</td>\n",
       "      <td>Город Санкт-Петербург город федерального значения</td>\n",
       "      <td>Разработка проектно-сметной документации по со...</td>\n",
       "      <td>бюджет субъекта Российской Федерации</td>\n",
       "      <td>38450706.70</td>\n",
       "      <td>34838647.86</td>\n",
       "      <td>71.1</td>\n",
       "      <td>71.1</td>\n",
       "    </tr>\n",
       "    <tr>\n",
       "      <th>29265632</th>\n",
       "      <td>ООО \\ГЕО-ПРОЕКТ\\\"\"</td>\n",
       "      <td>СПБ ГКУ \\ДИРЕКЦИЯ ТРАНСПОРТНОГО СТРОИТЕЛЬСТВА\\\"\"</td>\n",
       "      <td>Город Санкт-Петербург город федерального значения</td>\n",
       "      <td>Разработка проектной документации на выполнени...</td>\n",
       "      <td>бюджет субъекта Российской Федерации</td>\n",
       "      <td>19847970.77</td>\n",
       "      <td>16477449.29</td>\n",
       "      <td>71.1</td>\n",
       "      <td>71.1</td>\n",
       "    </tr>\n",
       "  </tbody>\n",
       "</table>\n",
       "<p>1011 rows × 9 columns</p>\n",
       "</div>"
      ],
      "text/plain": [
       "                                                   x4  \\\n",
       "29200033                                  ООО \\ТСС\\\"\"   \n",
       "29200059                               ООО \\УМ - 2\\\"\"   \n",
       "29200064                                  ООО \\ТСС\\\"\"   \n",
       "29200282                   ЛЮБЧИК АНАТОЛИЙ ВАСИЛЬЕВИЧ   \n",
       "29200291  ООО \\АРХИТЕКТУРНОЕ БЮРО МАКСИМА ВОРОНИНА\\\"\"   \n",
       "...                                               ...   \n",
       "29265580                   СОРОКИН ДМИТРИЙ ВИКТОРОВИЧ   \n",
       "29265581               ООО \\ЧОП \\\"МЕГАПОЛИС-ОПТИМА\\\"\"   \n",
       "29265630                                  ООО \\ИТС\\\"\"   \n",
       "29265631                                  ООО \\ИТС\\\"\"   \n",
       "29265632                           ООО \\ГЕО-ПРОЕКТ\\\"\"   \n",
       "\n",
       "                                                         x7  \\\n",
       "29200033  АДМИНИСТРАЦИЯ КОНАКОВСКОГО РАЙОНА ТВЕРСКОЙ ОБЛ...   \n",
       "29200059                         АДМИНИСТРАЦИЯ ЗАТО ОЗЕРНЫЙ   \n",
       "29200064  АДМИНИСТРАЦИЯ КОНАКОВСКОГО РАЙОНА ТВЕРСКОЙ ОБЛ...   \n",
       "29200282  ФГКУ \\СПЕЦИАЛЬНОЕ УПРАВЛЕНИЕ ФПС № 30 МЧС РОСС...   \n",
       "29200291                            МБУ СШ \\МЦ \\\"ДЕЛЬФИН\\\"\"   \n",
       "...                                                     ...   \n",
       "29265580  АДМИНИСТРАЦИЯ ОРЕХОВО-ЗУЕВСКОГО ГОРОДСКОГО ОКРУГА   \n",
       "29265581  АДМИНИСТРАЦИЯ ОРЕХОВО-ЗУЕВСКОГО ГОРОДСКОГО ОКРУГА   \n",
       "29265630                                   СПБ ГКУ \\ДОДД\\\"\"   \n",
       "29265631                                   СПБ ГКУ \\ДОДД\\\"\"   \n",
       "29265632   СПБ ГКУ \\ДИРЕКЦИЯ ТРАНСПОРТНОГО СТРОИТЕЛЬСТВА\\\"\"   \n",
       "\n",
       "                                                         x8  \\\n",
       "29200033                                   Тверская область   \n",
       "29200059                                   Тверская область   \n",
       "29200064                                   Тверская область   \n",
       "29200282                              Удмуртская Республика   \n",
       "29200291                              Удмуртская Республика   \n",
       "...                                                     ...   \n",
       "29265580                                 Московская область   \n",
       "29265581                                 Московская область   \n",
       "29265630  Город Санкт-Петербург город федерального значения   \n",
       "29265631  Город Санкт-Петербург город федерального значения   \n",
       "29265632  Город Санкт-Петербург город федерального значения   \n",
       "\n",
       "                                                        x11  \\\n",
       "29200033  Осуществление строительного контроля за выполн...   \n",
       "29200059  Оказание услуг по осуществлению строительного ...   \n",
       "29200064  Осуществление строительного контроля за выполн...   \n",
       "29200282    проведение кадастровых работ на объекте СПСЧ-12   \n",
       "29200291                       разработка эскизного проекта   \n",
       "...                                                     ...   \n",
       "29265580  Оказание услуг по гидрологическому обследовани...   \n",
       "29265581  Выполнение работ по разработке проектно-сметно...   \n",
       "29265630  Разработка проектно-сметной документации по со...   \n",
       "29265631  Разработка проектно-сметной документации по со...   \n",
       "29265632  Разработка проектной документации на выполнени...   \n",
       "\n",
       "                                                  x12          x14  \\\n",
       "29200033                               местный бюджет    929771.77   \n",
       "29200059   выполненного в форме холма со ступенями\\\"\"           \\N   \n",
       "29200064                               местный бюджет    685739.37   \n",
       "29200282                           федеральный бюджет     82333.33   \n",
       "29200291                                           \\N   1291666.67   \n",
       "...                                               ...          ...   \n",
       "29265580                               местный бюджет    240000.00   \n",
       "29265581                               местный бюджет     54341.67   \n",
       "29265630         бюджет субъекта Российской Федерации  35154931.84   \n",
       "29265631         бюджет субъекта Российской Федерации  38450706.70   \n",
       "29265632         бюджет субъекта Российской Федерации  19847970.77   \n",
       "\n",
       "                  x15    y_description     y  \n",
       "29200033    418397.27             71.1  71.1  \n",
       "29200059     86030.77  <НЕ ОПРЕДЕЛЕНО>  71.1  \n",
       "29200064     98569.50             71.1  71.1  \n",
       "29200282     72156.85             71.1  71.1  \n",
       "29200291    684000.00             71.1  71.1  \n",
       "...               ...              ...   ...  \n",
       "29265580    238800.00             71.1  71.1  \n",
       "29265581     54069.96             71.1  71.1  \n",
       "29265630  35505890.24             71.1  71.1  \n",
       "29265631  34838647.86             71.1  71.1  \n",
       "29265632  16477449.29             71.1  71.1  \n",
       "\n",
       "[1011 rows x 9 columns]"
      ]
     },
     "execution_count": 13,
     "metadata": {},
     "output_type": "execute_result"
    }
   ],
   "source": [
    "df[df[\"y\"] == \"71.1\"]"
   ]
  },
  {
   "cell_type": "code",
   "execution_count": null,
   "id": "17d2184c-6ed0-4563-adb6-41ae572ca135",
   "metadata": {},
   "outputs": [],
   "source": []
  }
 ],
 "metadata": {
  "kernelspec": {
   "display_name": "Python 3 (ipykernel)",
   "language": "python",
   "name": "python3"
  },
  "language_info": {
   "codemirror_mode": {
    "name": "ipython",
    "version": 3
   },
   "file_extension": ".py",
   "mimetype": "text/x-python",
   "name": "python",
   "nbconvert_exporter": "python",
   "pygments_lexer": "ipython3",
   "version": "3.12.4"
  }
 },
 "nbformat": 4,
 "nbformat_minor": 5
}
