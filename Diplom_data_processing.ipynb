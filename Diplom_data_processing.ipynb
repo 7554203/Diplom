{
 "cells": [
  {
   "cell_type": "markdown",
   "id": "72326f7b-205b-40b7-ac72-2dfc20120656",
   "metadata": {},
   "source": [
    "## импорт библиотек"
   ]
  },
  {
   "cell_type": "code",
   "execution_count": 67,
   "id": "fb34409f-90d0-4641-b86e-ecac2bf9bc40",
   "metadata": {},
   "outputs": [],
   "source": [
    "import os\n",
    "import pandas as pd\n",
    "import numpy as np\n",
    "from IPython.display import display\n",
    "\n",
    "#import seaborn as sns\n",
    "#import matplotlib.pyplot as plt\n",
    "\n",
    "import missingno as msno\n",
    "\n",
    "#import scipy.stats\n",
    "#from scipy.stats import spearmanr, kendalltau, chi2_contingency, pointbiserialr\n",
    "\n",
    "import warnings\n",
    "warnings.filterwarnings(\"ignore\")"
   ]
  },
  {
   "cell_type": "markdown",
   "id": "e423106e-83f4-43e8-8f62-57ea588e609d",
   "metadata": {},
   "source": [
    "## объявление переменных"
   ]
  },
  {
   "cell_type": "code",
   "execution_count": 68,
   "id": "485cd9e0-32d0-4272-82c1-4b94b1b93de8",
   "metadata": {},
   "outputs": [],
   "source": [
    "# даем колонкам имена\n",
    "COLUMNS = [\"x1\", \"Contract_number\", \"x2\", \"x3\", \"x4\", \"x5\",\n",
    "                      \"x6\", \"x7\", \"x8\", \"x9\", \"x10\", \"x11\", \"x12\",\n",
    "                      \"date1\", \"date2\", \"date3\", \"date4\", \"date5\", \"date6\", \"x13\", \"x14\",\n",
    "                      \"x15\", \"x16\", \"x17\", \"x18\", \"y_description\", \"y\"]\n",
    "# путь на диске куда пишем результат\n",
    "PATH = r\"C:\\Users\\AnnaZheleznova\\Documents\\Cource_BigData\\Diplom_github\\Data\" \n",
    "SEP = \"___\"\n",
    "# путь на диске где размещены данные\n",
    "CSV_DATA = r\"C:\\\\Users\\\\AnnaZheleznova\\\\Documents\\\\Cource_BigData\\\\Diplom_github\\\\fz.zip\" "
   ]
  },
  {
   "cell_type": "markdown",
   "id": "cca289e5-074e-46e0-8b35-11d40c56d21c",
   "metadata": {},
   "source": [
    "## загрузка данных"
   ]
  },
  {
   "cell_type": "code",
   "execution_count": 69,
   "id": "157be418-05c3-4aa0-a123-5f896aeb9df0",
   "metadata": {},
   "outputs": [],
   "source": [
    "# chinksize: получен объемный датасет, делим датасет на части\n",
    "# on_bad_lines=\"skip\": для пропуска 'плохих строк', т.е строк где много полей\n",
    "# dtype : как интерпретировать байты в блоке памяти \n",
    "chunksize = 10 ** 6\n",
    "i = 0\n",
    "with pd.read_csv(CSV_DATA, chunksize=chunksize, on_bad_lines=\"skip\",dtype='unicode') as reader:\n",
    "    for df in reader:\n",
    "        if i < 3:\n",
    "            i += 1\n",
    "            continue\n",
    "\n",
    "        df.columns = COLUMNS\n",
    "\n",
    "        df[\"y\"] = df[\"y\"].astype(str)\n",
    "        df = df[df[\"y\"] != \"<НЕ ОПРЕДЕЛЕНО>\"]\n",
    "        df = df[df[\"y\"] != \"<НЕ РАСПРЕДЕЛЕНО>\"]\n",
    "        df = df[df[\"y\"].str.len() == 4]\n",
    "\n",
    "        break"
   ]
  },
  {
   "cell_type": "code",
   "execution_count": 72,
   "id": "05b105d3-728e-42a7-a99a-4dcf06836ec9",
   "metadata": {},
   "outputs": [
    {
     "data": {
      "text/html": [
       "<div>\n",
       "<style scoped>\n",
       "    .dataframe tbody tr th:only-of-type {\n",
       "        vertical-align: middle;\n",
       "    }\n",
       "\n",
       "    .dataframe tbody tr th {\n",
       "        vertical-align: top;\n",
       "    }\n",
       "\n",
       "    .dataframe thead th {\n",
       "        text-align: right;\n",
       "    }\n",
       "</style>\n",
       "<table border=\"1\" class=\"dataframe\">\n",
       "  <thead>\n",
       "    <tr style=\"text-align: right;\">\n",
       "      <th></th>\n",
       "      <th>x1</th>\n",
       "      <th>Contract_number</th>\n",
       "      <th>x2</th>\n",
       "      <th>x3</th>\n",
       "      <th>x4</th>\n",
       "      <th>x5</th>\n",
       "      <th>x6</th>\n",
       "      <th>x7</th>\n",
       "      <th>x8</th>\n",
       "      <th>x9</th>\n",
       "      <th>...</th>\n",
       "      <th>date5</th>\n",
       "      <th>date6</th>\n",
       "      <th>x13</th>\n",
       "      <th>x14</th>\n",
       "      <th>x15</th>\n",
       "      <th>x16</th>\n",
       "      <th>x17</th>\n",
       "      <th>x18</th>\n",
       "      <th>y_description</th>\n",
       "      <th>y</th>\n",
       "    </tr>\n",
       "  </thead>\n",
       "  <tbody>\n",
       "    <tr>\n",
       "      <th>3000000</th>\n",
       "      <td>3616077</td>\n",
       "      <td>2643900685016000093</td>\n",
       "      <td>\\N</td>\n",
       "      <td>6449082440</td>\n",
       "      <td>ОБЩЕСТВО С ОГРАНИЧЕННОЙ ОТВЕТСТВЕННОСТЬЮ \\КУЛО...</td>\n",
       "      <td>64</td>\n",
       "      <td>6439006850</td>\n",
       "      <td>ГУЗ СО \\ГОРОДСКАЯ ПОЛИКЛИНИКА № 2 Г. БАЛАКОВО\\\"\"</td>\n",
       "      <td>Саратовская область</td>\n",
       "      <td>&lt;НЕ ОПРЕДЕЛЕНО&gt;</td>\n",
       "      <td>...</td>\n",
       "      <td>\\N</td>\n",
       "      <td>\\N</td>\n",
       "      <td>&lt;НЕ ОПРЕДЕЛЕНО&gt;</td>\n",
       "      <td>662545.00</td>\n",
       "      <td>476470.86</td>\n",
       "      <td>\\N</td>\n",
       "      <td>&lt;НЕ ОПРЕДЕЛЕНО&gt;</td>\n",
       "      <td>&lt;НЕ ОПРЕДЕЛЕНО&gt;</td>\n",
       "      <td>Здания и работы по возведению зданий</td>\n",
       "      <td>41.2</td>\n",
       "    </tr>\n",
       "    <tr>\n",
       "      <th>3000001</th>\n",
       "      <td>3616078</td>\n",
       "      <td>2643900685016000094</td>\n",
       "      <td>\\N</td>\n",
       "      <td>6439077427</td>\n",
       "      <td>ОБЩЕСТВО С ОГРАНИЧЕННОЙ ОТВЕТСТВЕННОСТЬЮ \\КЕЛЬ...</td>\n",
       "      <td>64</td>\n",
       "      <td>6439006850</td>\n",
       "      <td>ГУЗ СО \\ГОРОДСКАЯ ПОЛИКЛИНИКА № 2 Г. БАЛАКОВО\\\"\"</td>\n",
       "      <td>Саратовская область</td>\n",
       "      <td>&lt;НЕ ОПРЕДЕЛЕНО&gt;</td>\n",
       "      <td>...</td>\n",
       "      <td>2016-12-30</td>\n",
       "      <td>\\N</td>\n",
       "      <td>&lt;НЕ ОПРЕДЕЛЕНО&gt;</td>\n",
       "      <td>53300.00</td>\n",
       "      <td>53250.00</td>\n",
       "      <td>\\N</td>\n",
       "      <td>&lt;НЕ ОПРЕДЕЛЕНО&gt;</td>\n",
       "      <td>&lt;НЕ ОПРЕДЕЛЕНО&gt;</td>\n",
       "      <td>Работы строительные специализированные</td>\n",
       "      <td>43.3</td>\n",
       "    </tr>\n",
       "  </tbody>\n",
       "</table>\n",
       "<p>2 rows × 27 columns</p>\n",
       "</div>"
      ],
      "text/plain": [
       "              x1      Contract_number  x2          x3  \\\n",
       "3000000  3616077  2643900685016000093  \\N  6449082440   \n",
       "3000001  3616078  2643900685016000094  \\N  6439077427   \n",
       "\n",
       "                                                        x4  x5          x6  \\\n",
       "3000000  ОБЩЕСТВО С ОГРАНИЧЕННОЙ ОТВЕТСТВЕННОСТЬЮ \\КУЛО...  64  6439006850   \n",
       "3000001  ОБЩЕСТВО С ОГРАНИЧЕННОЙ ОТВЕТСТВЕННОСТЬЮ \\КЕЛЬ...  64  6439006850   \n",
       "\n",
       "                                                       x7  \\\n",
       "3000000  ГУЗ СО \\ГОРОДСКАЯ ПОЛИКЛИНИКА № 2 Г. БАЛАКОВО\\\"\"   \n",
       "3000001  ГУЗ СО \\ГОРОДСКАЯ ПОЛИКЛИНИКА № 2 Г. БАЛАКОВО\\\"\"   \n",
       "\n",
       "                          x8               x9  ...       date5 date6  \\\n",
       "3000000  Саратовская область  <НЕ ОПРЕДЕЛЕНО>  ...          \\N    \\N   \n",
       "3000001  Саратовская область  <НЕ ОПРЕДЕЛЕНО>  ...  2016-12-30    \\N   \n",
       "\n",
       "                     x13        x14        x15 x16              x17  \\\n",
       "3000000  <НЕ ОПРЕДЕЛЕНО>  662545.00  476470.86  \\N  <НЕ ОПРЕДЕЛЕНО>   \n",
       "3000001  <НЕ ОПРЕДЕЛЕНО>   53300.00   53250.00  \\N  <НЕ ОПРЕДЕЛЕНО>   \n",
       "\n",
       "                     x18                           y_description     y  \n",
       "3000000  <НЕ ОПРЕДЕЛЕНО>    Здания и работы по возведению зданий  41.2  \n",
       "3000001  <НЕ ОПРЕДЕЛЕНО>  Работы строительные специализированные  43.3  \n",
       "\n",
       "[2 rows x 27 columns]"
      ]
     },
     "metadata": {},
     "output_type": "display_data"
    }
   ],
   "source": [
    "# посмотрим датасет, все колонки\n",
    "display(df.head(2))"
   ]
  },
  {
   "cell_type": "code",
   "execution_count": 73,
   "id": "72cdc587-a433-4bfe-94bf-25446849831f",
   "metadata": {},
   "outputs": [
    {
     "data": {
      "text/plain": [
       "array(['41.2', '43.3', '19.2', '21.1', '21.2', '22.1', '20.5', '86.9',\n",
       "       '32.5', '17.1', '81.2', '71.2', '14.1', '80.1', '61.1', '60.1',\n",
       "       '25.9', '33.1', '10.7', '10.3', '10.8', '27.5', '80.2', '96.0',\n",
       "       '17.2', '10.5', '10.1', '31.0', '01.1', '01.2', '10.6', '28.2',\n",
       "       '20.2', '36.0', '20.1', '25.7', '23.9', '27.4', '10.4', '10.2',\n",
       "       '13.2', '58.1', '38.2', '01.4', '58.2', '24.1', '26.6', '26.5',\n",
       "       '22.2', '13.9', '20.4', '38.1', '25.1', '28.1', '24.4', '23.4',\n",
       "       '65.1', '35.2', '20.3', '32.9', '43.2', '26.3', '18.1', '56.2',\n",
       "       '63.1', '26.2', '08.9', '95.1', '29.3', '46.1', '35.1', '35.3',\n",
       "       '43.9', '26.4', '27.3', '61.9', '37.0', '71.1', '15.2', '85.4',\n",
       "       '82.3', '46.5', '24.5', '25.2', '14.3', '28.9', '27.1', '27.9',\n",
       "       '23.5', '23.6', '03.1', '28.3', '14.2', '15.1', '10.9', '11.0',\n",
       "       '62.0', '63.9', '53.1', '84.2', '86.1', '68.2', '16.2', '61.2',\n",
       "       '74.9', '73.2', '49.3', '53.2', '81.1', '46.3', '32.3', '69.2',\n",
       "       '86.2', '42.1', '68.1', '45.2', '27.2', '90.0', '30.9', '13.1',\n",
       "       '59.2', '33.2', '06.2', '26.7', '23.1', '24.3', '24.2', '82.1',\n",
       "       '68.3', '47.5', '59.1', '52.2', '55.1', '73.1', '51.1', '47.7',\n",
       "       '16.1', '84.1', '85.2', '41.1', '81.3', '79.1', '28.4', '47.4',\n",
       "       '43.1', '52.1', '50.1', '61.3', '01.3', '29.1', '03.2', '08.1',\n",
       "       '46.4', '42.2', '46.9', '49.5', '49.4', '75.0', '29.2', '82.9',\n",
       "       '32.4', '02.2', '46.7', '26.1', '45.1', '23.3', '42.9', '46.6',\n",
       "       '32.1', '74.3', '93.2', '45.3', '05.1', '47.6', '23.7', '77.3',\n",
       "       '77.2', '79.9', '60.2', '56.1', '32.2', '95.2', '25.3', '77.1',\n",
       "       '45.4', '74.2', '26.8', '85.3', '20.6', '02.3', '99.0', '47.3',\n",
       "       '66.1', '64.9', '72.1', '93.1', '85.1', '25.4', '94.1', '64.1',\n",
       "       '02.4', '55.9', '91.0', '70.2', '69.1', '66.2', '87.9', '06.1',\n",
       "       '72.2', '70.1', '55.2', '74.1', '88.9', '49.1', '02.1', '51.2',\n",
       "       '94.9', '25.6', '30.3', '09.1', '05.2', '47.2', '78.3', '82.2',\n",
       "       '30.2', '01.7', '23.2', '77.4', '97.0', '13.3', '30.1', '64.2',\n",
       "       '47.1', '12.0', '19.1', '46.2', '39.0', '18.2', '47.9', '88.1',\n",
       "       '87.3', '87.2', '78.2', '47.8', '09.9', '87.1', '25.5', '01.6',\n",
       "       '84.3', '98.1', '56.3', '50.3', '55.3', '65.2', '19.3', '49.2',\n",
       "       '07.2', '78.1', '38.3', '30.4', '50.4', '50.2', '80.3', '92.2',\n",
       "       '98.2', '07.1', '94.2'], dtype=object)"
      ]
     },
     "execution_count": 73,
     "metadata": {},
     "output_type": "execute_result"
    }
   ],
   "source": [
    "# интересует ОКПД 2, это колонка \"у\", посмотрим на уникальные значения по ней\n",
    "df[\"y\"].unique()"
   ]
  },
  {
   "cell_type": "code",
   "execution_count": 74,
   "id": "ff19206e-2b5e-4b03-9ce3-af673c6235c6",
   "metadata": {},
   "outputs": [
    {
     "name": "stdout",
     "output_type": "stream",
     "text": [
      "0, 1, 2, 3, 4, 5, 6, 7, 8, 9, 10, 11, 12, 13, 14, 15, 16, 17, 18, 19, 20, 21, 22, 23, 24, 25, 26, 27, 28, 29, 30, 31, 32, 33, 34, 35, 36, 37, 38, 39, 40, 41, 42, 43, 44, 45, 46, 47, 48, 49, 50, 51, 52, 53, 54, 55, 56, 57, 58, 59, 60, 61, 62, 63, 64, 65, 66, 67, 68, 69, 70, 71, 72, 73, 74, 75, 76, 77, 78, 79, 80, 81, 82, 83, 84, 85, 86, 87, 88, 89, 90, 91, 92, 93, 94, 95, 96, 97, 98, 99, 100, 101, 102, 103, 104, 105, 106, 107, 108, 109, 110, 111, 112, 113, 114, 115, 116, 117, 118, 119, 120, 121, 122, 123, 124, 125, 126, 127, 128, 129, 130, 131, 132, 133, 134, 135, 136, 137, 138, 139, 140, 141, 142, 143, 144, 145, 146, 147, 148, 149, 150, 151, 152, 153, 154, 155, 156, 157, 158, 159, 160, 161, 162, 163, 164, 165, 166, 167, 168, 169, 170, 171, 172, 173, 174, 175, 176, 177, 178, 179, 180, 181, 182, 183, 184, 185, 186, 187, 188, 189, 190, 191, 192, 193, 194, 195, 196, 197, 198, 199, 200, 201, 202, 203, 204, 205, 206, 207, 208, 209, 210, 211, 212, 213, 214, 215, 216, 217, 218, 219, 220, 221, 222, 223, 224, 225, 226, 227, 228, 229, 230, 231, 232, 233, 234, 235, 236, 237, 238, 239, 240, 241, 242, 243, 244, 245, 246, 247, 248, 249, 250, 251, 252, 253, 254, 255, 256, 257, 258, 259, 260, 261, 262, 263, 264, 265, 266, 267, 268, 269, 270, 271, 272, 273, 274, 275, 276, 277, 278, 279, 280, 281, 282, 283, 284, 285, 286, 287, 288, 289, 290, 291, 292, "
     ]
    }
   ],
   "source": [
    "# обрабатываем и сохраняем данные в PATH, немного ждем результат\n",
    "# вот тут хорошо бы писать в базу данных\n",
    "chunksize = 10 ** 5\n",
    "chunk_id = 0\n",
    "with pd.read_csv(CSV_DATA, chunksize=chunksize, on_bad_lines=\"skip\", dtype='unicode') as reader:\n",
    "    for df in reader:\n",
    "        print(chunk_id, end=\", \")\n",
    "        if chunk_id >= 0:\n",
    "            df.columns = COLUMNS\n",
    "\n",
    "            df[\"y\"] = df[\"y\"].astype(str)\n",
    "            df = df[df[\"y\"] != \"<НЕ ОПРЕДЕЛЕНО>\"]\n",
    "            df = df[df[\"y\"] != \"<НЕ РАСПРЕДЕЛЕНО>\"]\n",
    "            df = df[df[\"y\"].str.len() == 4]\n",
    "\n",
    "\n",
    "            df = df[[\"Contract_number\", \"x4\", \"x7\", \"x8\", \"x11\", \"x12\", \"x14\", \"x15\", \"y_description\", \"y\"]]\n",
    "\n",
    "            for y in df[\"y\"].unique():\n",
    "                if len(y) < 20:\n",
    "                    df_crop = df[df[\"y\"] == y]\n",
    "                    df_crop.to_csv(os.path.join(PATH, f\"{y}{SEP}{chunk_id}.csv\"))\n",
    "                else:\n",
    "                    print()\n",
    "                    print(y)\n",
    "\n",
    "        chunk_id += 1"
   ]
  },
  {
   "cell_type": "code",
   "execution_count": 75,
   "id": "ce5f11e4-ecf1-40ae-a91c-44c898a7db31",
   "metadata": {},
   "outputs": [
    {
     "data": {
      "text/plain": [
       "293"
      ]
     },
     "execution_count": 75,
     "metadata": {},
     "output_type": "execute_result"
    }
   ],
   "source": [
    "chunk_id"
   ]
  },
  {
   "cell_type": "code",
   "execution_count": 76,
   "id": "362fe201-6d10-4cf7-881a-c044fe12c311",
   "metadata": {},
   "outputs": [
    {
     "data": {
      "text/plain": [
       "(64657, 10)"
      ]
     },
     "execution_count": 76,
     "metadata": {},
     "output_type": "execute_result"
    }
   ],
   "source": [
    "# посмотрим размер df\n",
    "df.shape"
   ]
  },
  {
   "cell_type": "code",
   "execution_count": 77,
   "id": "217e1810-9fa6-46cd-82ea-2065cb514f5d",
   "metadata": {},
   "outputs": [
    {
     "data": {
      "text/plain": [
       "646570"
      ]
     },
     "execution_count": 77,
     "metadata": {},
     "output_type": "execute_result"
    }
   ],
   "source": [
    "df.size"
   ]
  },
  {
   "cell_type": "code",
   "execution_count": 78,
   "id": "71cab61d-34c2-48d1-a24e-34048f515933",
   "metadata": {},
   "outputs": [
    {
     "data": {
      "text/html": [
       "<div>\n",
       "<style scoped>\n",
       "    .dataframe tbody tr th:only-of-type {\n",
       "        vertical-align: middle;\n",
       "    }\n",
       "\n",
       "    .dataframe tbody tr th {\n",
       "        vertical-align: top;\n",
       "    }\n",
       "\n",
       "    .dataframe thead th {\n",
       "        text-align: right;\n",
       "    }\n",
       "</style>\n",
       "<table border=\"1\" class=\"dataframe\">\n",
       "  <thead>\n",
       "    <tr style=\"text-align: right;\">\n",
       "      <th></th>\n",
       "      <th>Contract_number</th>\n",
       "      <th>x4</th>\n",
       "      <th>x7</th>\n",
       "      <th>x8</th>\n",
       "      <th>x11</th>\n",
       "      <th>x12</th>\n",
       "      <th>x14</th>\n",
       "      <th>x15</th>\n",
       "      <th>y_description</th>\n",
       "      <th>y</th>\n",
       "    </tr>\n",
       "  </thead>\n",
       "  <tbody>\n",
       "    <tr>\n",
       "      <th>29200033</th>\n",
       "      <td>3691100437822000041</td>\n",
       "      <td>ООО \\ТСС\\\"\"</td>\n",
       "      <td>АДМИНИСТРАЦИЯ КОНАКОВСКОГО РАЙОНА ТВЕРСКОЙ ОБЛ...</td>\n",
       "      <td>Тверская область</td>\n",
       "      <td>Осуществление строительного контроля за выполн...</td>\n",
       "      <td>местный бюджет</td>\n",
       "      <td>929771.77</td>\n",
       "      <td>418397.27</td>\n",
       "      <td>71.1</td>\n",
       "      <td>71.1</td>\n",
       "    </tr>\n",
       "    <tr>\n",
       "      <th>29200059</th>\n",
       "      <td>3694600014122000030</td>\n",
       "      <td>ООО \\УМ - 2\\\"\"</td>\n",
       "      <td>АДМИНИСТРАЦИЯ ЗАТО ОЗЕРНЫЙ</td>\n",
       "      <td>Тверская область</td>\n",
       "      <td>Оказание услуг по осуществлению строительного ...</td>\n",
       "      <td>выполненного в форме холма со ступенями\\\"\"</td>\n",
       "      <td>\\N</td>\n",
       "      <td>86030.77</td>\n",
       "      <td>&lt;НЕ ОПРЕДЕЛЕНО&gt;</td>\n",
       "      <td>71.1</td>\n",
       "    </tr>\n",
       "    <tr>\n",
       "      <th>29200064</th>\n",
       "      <td>3691100437822000042</td>\n",
       "      <td>ООО \\ТСС\\\"\"</td>\n",
       "      <td>АДМИНИСТРАЦИЯ КОНАКОВСКОГО РАЙОНА ТВЕРСКОЙ ОБЛ...</td>\n",
       "      <td>Тверская область</td>\n",
       "      <td>Осуществление строительного контроля за выполн...</td>\n",
       "      <td>местный бюджет</td>\n",
       "      <td>685739.37</td>\n",
       "      <td>98569.50</td>\n",
       "      <td>71.1</td>\n",
       "      <td>71.1</td>\n",
       "    </tr>\n",
       "    <tr>\n",
       "      <th>29200282</th>\n",
       "      <td>1183108003922000025</td>\n",
       "      <td>ЛЮБЧИК АНАТОЛИЙ ВАСИЛЬЕВИЧ</td>\n",
       "      <td>ФГКУ \\СПЕЦИАЛЬНОЕ УПРАВЛЕНИЕ ФПС № 30 МЧС РОСС...</td>\n",
       "      <td>Удмуртская Республика</td>\n",
       "      <td>проведение кадастровых работ на объекте СПСЧ-12</td>\n",
       "      <td>федеральный бюджет</td>\n",
       "      <td>82333.33</td>\n",
       "      <td>72156.85</td>\n",
       "      <td>71.1</td>\n",
       "      <td>71.1</td>\n",
       "    </tr>\n",
       "    <tr>\n",
       "      <th>29200291</th>\n",
       "      <td>3183202183022000001</td>\n",
       "      <td>ООО \\АРХИТЕКТУРНОЕ БЮРО МАКСИМА ВОРОНИНА\\\"\"</td>\n",
       "      <td>МБУ СШ \\МЦ \\\"ДЕЛЬФИН\\\"\"</td>\n",
       "      <td>Удмуртская Республика</td>\n",
       "      <td>разработка эскизного проекта</td>\n",
       "      <td>\\N</td>\n",
       "      <td>1291666.67</td>\n",
       "      <td>684000.00</td>\n",
       "      <td>71.1</td>\n",
       "      <td>71.1</td>\n",
       "    </tr>\n",
       "    <tr>\n",
       "      <th>...</th>\n",
       "      <td>...</td>\n",
       "      <td>...</td>\n",
       "      <td>...</td>\n",
       "      <td>...</td>\n",
       "      <td>...</td>\n",
       "      <td>...</td>\n",
       "      <td>...</td>\n",
       "      <td>...</td>\n",
       "      <td>...</td>\n",
       "      <td>...</td>\n",
       "    </tr>\n",
       "    <tr>\n",
       "      <th>29265580</th>\n",
       "      <td>3503408266722000086</td>\n",
       "      <td>СОРОКИН ДМИТРИЙ ВИКТОРОВИЧ</td>\n",
       "      <td>АДМИНИСТРАЦИЯ ОРЕХОВО-ЗУЕВСКОГО ГОРОДСКОГО ОКРУГА</td>\n",
       "      <td>Московская область</td>\n",
       "      <td>Оказание услуг по гидрологическому обследовани...</td>\n",
       "      <td>местный бюджет</td>\n",
       "      <td>240000.00</td>\n",
       "      <td>238800.00</td>\n",
       "      <td>71.1</td>\n",
       "      <td>71.1</td>\n",
       "    </tr>\n",
       "    <tr>\n",
       "      <th>29265581</th>\n",
       "      <td>3503408266722000085</td>\n",
       "      <td>ООО \\ЧОП \\\"МЕГАПОЛИС-ОПТИМА\\\"\"</td>\n",
       "      <td>АДМИНИСТРАЦИЯ ОРЕХОВО-ЗУЕВСКОГО ГОРОДСКОГО ОКРУГА</td>\n",
       "      <td>Московская область</td>\n",
       "      <td>Выполнение работ по разработке проектно-сметно...</td>\n",
       "      <td>местный бюджет</td>\n",
       "      <td>54341.67</td>\n",
       "      <td>54069.96</td>\n",
       "      <td>71.1</td>\n",
       "      <td>71.1</td>\n",
       "    </tr>\n",
       "    <tr>\n",
       "      <th>29265630</th>\n",
       "      <td>2780114580422000034</td>\n",
       "      <td>ООО \\ИТС\\\"\"</td>\n",
       "      <td>СПБ ГКУ \\ДОДД\\\"\"</td>\n",
       "      <td>Город Санкт-Петербург город федерального значения</td>\n",
       "      <td>Разработка проектно-сметной документации по со...</td>\n",
       "      <td>бюджет субъекта Российской Федерации</td>\n",
       "      <td>35154931.84</td>\n",
       "      <td>35505890.24</td>\n",
       "      <td>71.1</td>\n",
       "      <td>71.1</td>\n",
       "    </tr>\n",
       "    <tr>\n",
       "      <th>29265631</th>\n",
       "      <td>2780114580422000035</td>\n",
       "      <td>ООО \\ИТС\\\"\"</td>\n",
       "      <td>СПБ ГКУ \\ДОДД\\\"\"</td>\n",
       "      <td>Город Санкт-Петербург город федерального значения</td>\n",
       "      <td>Разработка проектно-сметной документации по со...</td>\n",
       "      <td>бюджет субъекта Российской Федерации</td>\n",
       "      <td>38450706.70</td>\n",
       "      <td>34838647.86</td>\n",
       "      <td>71.1</td>\n",
       "      <td>71.1</td>\n",
       "    </tr>\n",
       "    <tr>\n",
       "      <th>29265632</th>\n",
       "      <td>2782534239021000055</td>\n",
       "      <td>ООО \\ГЕО-ПРОЕКТ\\\"\"</td>\n",
       "      <td>СПБ ГКУ \\ДИРЕКЦИЯ ТРАНСПОРТНОГО СТРОИТЕЛЬСТВА\\\"\"</td>\n",
       "      <td>Город Санкт-Петербург город федерального значения</td>\n",
       "      <td>Разработка проектной документации на выполнени...</td>\n",
       "      <td>бюджет субъекта Российской Федерации</td>\n",
       "      <td>19847970.77</td>\n",
       "      <td>16477449.29</td>\n",
       "      <td>71.1</td>\n",
       "      <td>71.1</td>\n",
       "    </tr>\n",
       "  </tbody>\n",
       "</table>\n",
       "<p>1011 rows × 10 columns</p>\n",
       "</div>"
      ],
      "text/plain": [
       "              Contract_number                                           x4  \\\n",
       "29200033  3691100437822000041                                  ООО \\ТСС\\\"\"   \n",
       "29200059  3694600014122000030                               ООО \\УМ - 2\\\"\"   \n",
       "29200064  3691100437822000042                                  ООО \\ТСС\\\"\"   \n",
       "29200282  1183108003922000025                   ЛЮБЧИК АНАТОЛИЙ ВАСИЛЬЕВИЧ   \n",
       "29200291  3183202183022000001  ООО \\АРХИТЕКТУРНОЕ БЮРО МАКСИМА ВОРОНИНА\\\"\"   \n",
       "...                       ...                                          ...   \n",
       "29265580  3503408266722000086                   СОРОКИН ДМИТРИЙ ВИКТОРОВИЧ   \n",
       "29265581  3503408266722000085               ООО \\ЧОП \\\"МЕГАПОЛИС-ОПТИМА\\\"\"   \n",
       "29265630  2780114580422000034                                  ООО \\ИТС\\\"\"   \n",
       "29265631  2780114580422000035                                  ООО \\ИТС\\\"\"   \n",
       "29265632  2782534239021000055                           ООО \\ГЕО-ПРОЕКТ\\\"\"   \n",
       "\n",
       "                                                         x7  \\\n",
       "29200033  АДМИНИСТРАЦИЯ КОНАКОВСКОГО РАЙОНА ТВЕРСКОЙ ОБЛ...   \n",
       "29200059                         АДМИНИСТРАЦИЯ ЗАТО ОЗЕРНЫЙ   \n",
       "29200064  АДМИНИСТРАЦИЯ КОНАКОВСКОГО РАЙОНА ТВЕРСКОЙ ОБЛ...   \n",
       "29200282  ФГКУ \\СПЕЦИАЛЬНОЕ УПРАВЛЕНИЕ ФПС № 30 МЧС РОСС...   \n",
       "29200291                            МБУ СШ \\МЦ \\\"ДЕЛЬФИН\\\"\"   \n",
       "...                                                     ...   \n",
       "29265580  АДМИНИСТРАЦИЯ ОРЕХОВО-ЗУЕВСКОГО ГОРОДСКОГО ОКРУГА   \n",
       "29265581  АДМИНИСТРАЦИЯ ОРЕХОВО-ЗУЕВСКОГО ГОРОДСКОГО ОКРУГА   \n",
       "29265630                                   СПБ ГКУ \\ДОДД\\\"\"   \n",
       "29265631                                   СПБ ГКУ \\ДОДД\\\"\"   \n",
       "29265632   СПБ ГКУ \\ДИРЕКЦИЯ ТРАНСПОРТНОГО СТРОИТЕЛЬСТВА\\\"\"   \n",
       "\n",
       "                                                         x8  \\\n",
       "29200033                                   Тверская область   \n",
       "29200059                                   Тверская область   \n",
       "29200064                                   Тверская область   \n",
       "29200282                              Удмуртская Республика   \n",
       "29200291                              Удмуртская Республика   \n",
       "...                                                     ...   \n",
       "29265580                                 Московская область   \n",
       "29265581                                 Московская область   \n",
       "29265630  Город Санкт-Петербург город федерального значения   \n",
       "29265631  Город Санкт-Петербург город федерального значения   \n",
       "29265632  Город Санкт-Петербург город федерального значения   \n",
       "\n",
       "                                                        x11  \\\n",
       "29200033  Осуществление строительного контроля за выполн...   \n",
       "29200059  Оказание услуг по осуществлению строительного ...   \n",
       "29200064  Осуществление строительного контроля за выполн...   \n",
       "29200282    проведение кадастровых работ на объекте СПСЧ-12   \n",
       "29200291                       разработка эскизного проекта   \n",
       "...                                                     ...   \n",
       "29265580  Оказание услуг по гидрологическому обследовани...   \n",
       "29265581  Выполнение работ по разработке проектно-сметно...   \n",
       "29265630  Разработка проектно-сметной документации по со...   \n",
       "29265631  Разработка проектно-сметной документации по со...   \n",
       "29265632  Разработка проектной документации на выполнени...   \n",
       "\n",
       "                                                  x12          x14  \\\n",
       "29200033                               местный бюджет    929771.77   \n",
       "29200059   выполненного в форме холма со ступенями\\\"\"           \\N   \n",
       "29200064                               местный бюджет    685739.37   \n",
       "29200282                           федеральный бюджет     82333.33   \n",
       "29200291                                           \\N   1291666.67   \n",
       "...                                               ...          ...   \n",
       "29265580                               местный бюджет    240000.00   \n",
       "29265581                               местный бюджет     54341.67   \n",
       "29265630         бюджет субъекта Российской Федерации  35154931.84   \n",
       "29265631         бюджет субъекта Российской Федерации  38450706.70   \n",
       "29265632         бюджет субъекта Российской Федерации  19847970.77   \n",
       "\n",
       "                  x15    y_description     y  \n",
       "29200033    418397.27             71.1  71.1  \n",
       "29200059     86030.77  <НЕ ОПРЕДЕЛЕНО>  71.1  \n",
       "29200064     98569.50             71.1  71.1  \n",
       "29200282     72156.85             71.1  71.1  \n",
       "29200291    684000.00             71.1  71.1  \n",
       "...               ...              ...   ...  \n",
       "29265580    238800.00             71.1  71.1  \n",
       "29265581     54069.96             71.1  71.1  \n",
       "29265630  35505890.24             71.1  71.1  \n",
       "29265631  34838647.86             71.1  71.1  \n",
       "29265632  16477449.29             71.1  71.1  \n",
       "\n",
       "[1011 rows x 10 columns]"
      ]
     },
     "execution_count": 78,
     "metadata": {},
     "output_type": "execute_result"
    }
   ],
   "source": [
    "# посмотрим для примера данные по одному из ОКПД 2\n",
    "df[df[\"y\"] == \"71.1\"]"
   ]
  },
  {
   "cell_type": "markdown",
   "id": "f8cdcf67-2719-4662-99c6-79a2697aa2d8",
   "metadata": {},
   "source": [
    "## анализ данных"
   ]
  },
  {
   "cell_type": "markdown",
   "id": "abb96370-b0db-4ef5-a6fa-736310933aca",
   "metadata": {},
   "source": [
    "### посмотрим на данные, есть ли пропуски"
   ]
  },
  {
   "cell_type": "code",
   "execution_count": 79,
   "id": "4530491d-09e3-4992-b7de-cb74425a46b3",
   "metadata": {},
   "outputs": [
    {
     "data": {
      "text/html": [
       "<div>\n",
       "<style scoped>\n",
       "    .dataframe tbody tr th:only-of-type {\n",
       "        vertical-align: middle;\n",
       "    }\n",
       "\n",
       "    .dataframe tbody tr th {\n",
       "        vertical-align: top;\n",
       "    }\n",
       "\n",
       "    .dataframe thead th {\n",
       "        text-align: right;\n",
       "    }\n",
       "</style>\n",
       "<table border=\"1\" class=\"dataframe\">\n",
       "  <thead>\n",
       "    <tr style=\"text-align: right;\">\n",
       "      <th></th>\n",
       "      <th>DataType</th>\n",
       "      <th>MissingValues</th>\n",
       "      <th>UniqueValues</th>\n",
       "      <th>MissingValuesRatio</th>\n",
       "    </tr>\n",
       "  </thead>\n",
       "  <tbody>\n",
       "    <tr>\n",
       "      <th>Contract_number</th>\n",
       "      <td>object</td>\n",
       "      <td>0</td>\n",
       "      <td>52138</td>\n",
       "      <td>0.0</td>\n",
       "    </tr>\n",
       "    <tr>\n",
       "      <th>x4</th>\n",
       "      <td>object</td>\n",
       "      <td>0</td>\n",
       "      <td>21662</td>\n",
       "      <td>0.0</td>\n",
       "    </tr>\n",
       "    <tr>\n",
       "      <th>x7</th>\n",
       "      <td>object</td>\n",
       "      <td>0</td>\n",
       "      <td>20078</td>\n",
       "      <td>0.0</td>\n",
       "    </tr>\n",
       "    <tr>\n",
       "      <th>x8</th>\n",
       "      <td>object</td>\n",
       "      <td>0</td>\n",
       "      <td>271</td>\n",
       "      <td>0.0</td>\n",
       "    </tr>\n",
       "    <tr>\n",
       "      <th>x11</th>\n",
       "      <td>object</td>\n",
       "      <td>0</td>\n",
       "      <td>35810</td>\n",
       "      <td>0.0</td>\n",
       "    </tr>\n",
       "    <tr>\n",
       "      <th>x12</th>\n",
       "      <td>object</td>\n",
       "      <td>0</td>\n",
       "      <td>825</td>\n",
       "      <td>0.0</td>\n",
       "    </tr>\n",
       "    <tr>\n",
       "      <th>x14</th>\n",
       "      <td>object</td>\n",
       "      <td>0</td>\n",
       "      <td>31577</td>\n",
       "      <td>0.0</td>\n",
       "    </tr>\n",
       "    <tr>\n",
       "      <th>x15</th>\n",
       "      <td>object</td>\n",
       "      <td>0</td>\n",
       "      <td>44175</td>\n",
       "      <td>0.0</td>\n",
       "    </tr>\n",
       "    <tr>\n",
       "      <th>y_description</th>\n",
       "      <td>object</td>\n",
       "      <td>0</td>\n",
       "      <td>237</td>\n",
       "      <td>0.0</td>\n",
       "    </tr>\n",
       "    <tr>\n",
       "      <th>y</th>\n",
       "      <td>object</td>\n",
       "      <td>0</td>\n",
       "      <td>224</td>\n",
       "      <td>0.0</td>\n",
       "    </tr>\n",
       "  </tbody>\n",
       "</table>\n",
       "</div>"
      ],
      "text/plain": [
       "                DataType  MissingValues  UniqueValues  MissingValuesRatio\n",
       "Contract_number   object              0         52138                 0.0\n",
       "x4                object              0         21662                 0.0\n",
       "x7                object              0         20078                 0.0\n",
       "x8                object              0           271                 0.0\n",
       "x11               object              0         35810                 0.0\n",
       "x12               object              0           825                 0.0\n",
       "x14               object              0         31577                 0.0\n",
       "x15               object              0         44175                 0.0\n",
       "y_description     object              0           237                 0.0\n",
       "y                 object              0           224                 0.0"
      ]
     },
     "execution_count": 79,
     "metadata": {},
     "output_type": "execute_result"
    }
   ],
   "source": [
    "df_info = pd.DataFrame({\n",
    "    \"DataType\": df.dtypes,\n",
    "    \"MissingValues\": df.isnull().sum(),\n",
    "    \"UniqueValues\": df.nunique()\n",
    "}).sort_values(by=\"MissingValues\", ascending=False)\n",
    "\n",
    "df_info['MissingValuesRatio'] = round(df_info['MissingValues'] / len(df),2)\n",
    "\n",
    "df_info"
   ]
  },
  {
   "cell_type": "markdown",
   "id": "28a6f672-e05e-469a-b238-bc3f0857e345",
   "metadata": {},
   "source": [
    "### процент пропущенных значений"
   ]
  },
  {
   "cell_type": "code",
   "execution_count": 80,
   "id": "3267aece-e6a0-4673-9847-5f34985b06b5",
   "metadata": {},
   "outputs": [
    {
     "name": "stdout",
     "output_type": "stream",
     "text": [
      "Процент пропущенных значений: 0.00%\n"
     ]
    }
   ],
   "source": [
    "# посмотрим пропуски (процент полей с пропущенными значениями)\n",
    "total_fields = df.size\n",
    "missing_values_count = df.isnull().sum().sum()\n",
    "# процент пропущенных значений\n",
    "missing_values_percentage = (missing_values_count / total_fields) *  100\n",
    "print(f\"Процент пропущенных значений: {missing_values_percentage:.2f}%\")\n"
   ]
  },
  {
   "cell_type": "markdown",
   "id": "e54c68b2-80fe-4220-ac78-3f206777cf1e",
   "metadata": {},
   "source": [
    "### строим изображение, по которому можно визуально определить расположение пропусков"
   ]
  },
  {
   "cell_type": "code",
   "execution_count": 81,
   "id": "447fb332-5ebf-49fc-a15c-42f840354b9c",
   "metadata": {},
   "outputs": [
    {
     "data": {
      "text/plain": [
       "<Axes: >"
      ]
     },
     "execution_count": 81,
     "metadata": {},
     "output_type": "execute_result"
    },
    {
     "data": {
      "image/png": "[encoded data removed]",
      "text/plain": [
       "<Figure size 2500x1000 with 2 Axes>"
      ]
     },
     "metadata": {},
     "output_type": "display_data"
    }
   ],
   "source": [
    "msno.matrix(df)"
   ]
  },
  {
   "cell_type": "markdown",
   "id": "b594d20e-e7e6-4fd0-93de-4271437d8f8b",
   "metadata": {},
   "source": [
    "### проверим стоимость на наличие отрицательной"
   ]
  },
  {
   "cell_type": "code",
   "execution_count": 82,
   "id": "5150f6bd-b331-43f3-b463-aff359957110",
   "metadata": {},
   "outputs": [
    {
     "data": {
      "text/plain": [
       "min                 0.32\n",
       "max    Соглашение сторон\n",
       "Name: x14, dtype: object"
      ]
     },
     "execution_count": 82,
     "metadata": {},
     "output_type": "execute_result"
    }
   ],
   "source": [
    "df['x14'].agg(['min', 'max'])"
   ]
  },
  {
   "cell_type": "code",
   "execution_count": 83,
   "id": "d5d77943-aefd-419c-bb08-725c2ec96332",
   "metadata": {},
   "outputs": [
    {
     "data": {
      "text/plain": [
       "min    0.00\n",
       "max      \\N\n",
       "Name: x15, dtype: object"
      ]
     },
     "execution_count": 83,
     "metadata": {},
     "output_type": "execute_result"
    }
   ],
   "source": [
    "df['x15'].agg(['min', 'max'])"
   ]
  },
  {
   "cell_type": "markdown",
   "id": "f2519438-bce1-4543-b3a8-bd28788f05e2",
   "metadata": {},
   "source": [
    "### проверим контракты с одним номером, но с разными кодами ОКПД 2"
   ]
  },
  {
   "cell_type": "code",
   "execution_count": 91,
   "id": "1065a34f-45ba-4681-b80e-b74c400c62a5",
   "metadata": {},
   "outputs": [],
   "source": [
    "duplicated_Contract_number = df[df['Contract_number'].duplicated(keep=False)].sort_values(by='Contract_number')"
   ]
  },
  {
   "cell_type": "code",
   "execution_count": 92,
   "id": "d588a171-d5d6-4a49-a018-e225b90db68c",
   "metadata": {},
   "outputs": [
    {
     "name": "stdout",
     "output_type": "stream",
     "text": [
      "              Contract_number     y\n",
      "29201656  1010501746721000016  56.2\n",
      "29201655  1010501746721000016  56.2\n",
      "29246247  1020200039522000135  10.6\n",
      "29246246  1020200039522000135  10.8\n",
      "29202518  1027301120222000064  33.1\n",
      "29202517  1027301120222000064  33.1\n",
      "29245862  1027410113822000179  26.3\n",
      "29245861  1027410113822000179  27.3\n",
      "29245860  1027410113822000179  22.2\n",
      "29245856  1027410113822000180  80.2\n",
      "29245857  1027410113822000180  80.2\n",
      "29224819  1027416639021000017  35.3\n",
      "29224818  1027416639021000017  35.3\n",
      "29224816  1027416639021000017  35.3\n",
      "29224817  1027416639021000017  35.3\n",
      "29224797  1027416639022000138  28.2\n",
      "29224796  1027416639022000138  25.7\n",
      "29246085  1027416639022000141  25.7\n",
      "29246086  1027416639022000141  28.2\n",
      "29202744  1027500646222000119  26.4\n"
     ]
    }
   ],
   "source": [
    "print(duplicated_Contract_number[['Contract_number','y']].head(20))"
   ]
  },
  {
   "cell_type": "code",
   "execution_count": 99,
   "id": "4d24ad38-8747-4097-8715-e2d7ef4f1e57",
   "metadata": {},
   "outputs": [],
   "source": [
    "# один контракт имеет несколько кодов обновременно, возможно это ошибки, уточнить у специалиста в предметной области, ниже итог\n",
    "full_duplicates = duplicated_Contract_number.duplicated(keep=False).sum()\n",
    "partial_duplicates = len(duplicated_Contract_number) - full_duplicates"
   ]
  },
  {
   "cell_type": "code",
   "execution_count": 100,
   "id": "81d68f21-cc8b-4436-bfd2-5bae31ade837",
   "metadata": {},
   "outputs": [
    {
     "name": "stdout",
     "output_type": "stream",
     "text": [
      "Полных дупликатов: 8286\n"
     ]
    }
   ],
   "source": [
    "print('Полных дупликатов:', full_duplicates)"
   ]
  },
  {
   "cell_type": "code",
   "execution_count": 101,
   "id": "de4ee033-5b49-4a9e-ace6-e8bd09a21aa4",
   "metadata": {},
   "outputs": [
    {
     "name": "stdout",
     "output_type": "stream",
     "text": [
      "Частичных дупликатов:  10936\n"
     ]
    }
   ],
   "source": [
    "print('Частичных дупликатов: ', partial_duplicates)"
   ]
  },
  {
   "cell_type": "markdown",
   "id": "e4aea3e3-5314-4254-abc5-3d66bc23e7cc",
   "metadata": {},
   "source": []
  }
 ],
 "metadata": {
  "kernelspec": {
   "display_name": "Python 3 (ipykernel)",
   "language": "python",
   "name": "python3"
  },
  "language_info": {
   "codemirror_mode": {
    "name": "ipython",
    "version": 3
   },
   "file_extension": ".py",
   "mimetype": "text/x-python",
   "name": "python",
   "nbconvert_exporter": "python",
   "pygments_lexer": "ipython3",
   "version": "3.12.7"
  }
 },
 "nbformat": 4,
 "nbformat_minor": 5
}
